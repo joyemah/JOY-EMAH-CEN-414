{
 "cells": [
  {
   "cell_type": "code",
   "execution_count": 1,
   "metadata": {},
   "outputs": [],
   "source": [
    "import pandas as pd"
   ]
  },
  {
   "cell_type": "code",
   "execution_count": 2,
   "metadata": {},
   "outputs": [
    {
     "data": {
      "text/plain": [
       "'1.0.1'"
      ]
     },
     "execution_count": 2,
     "metadata": {},
     "output_type": "execute_result"
    }
   ],
   "source": [
    "pd.__version__"
   ]
  },
  {
   "cell_type": "code",
   "execution_count": 3,
   "metadata": {},
   "outputs": [],
   "source": [
    "import json"
   ]
  },
  {
   "cell_type": "code",
   "execution_count": 4,
   "metadata": {},
   "outputs": [],
   "source": [
    "import plotly.express as xp"
   ]
  },
  {
   "cell_type": "code",
   "execution_count": 9,
   "metadata": {},
   "outputs": [],
   "source": [
    "with open(r'C:\\Users\\samue\\Documents\\emah\\lABOUR FORCE Q3 2018.geojson') as f:\n",
    "    map_data= json.load(f)"
   ]
  },
  {
   "cell_type": "code",
   "execution_count": 21,
   "metadata": {},
   "outputs": [
    {
     "data": {
      "text/plain": [
       "{'type': 'Feature',\n",
       " 'geometry': {'type': 'Point', 'coordinates': {}},\n",
       " 'properties': {'STATE': 'ANAMBRA',\n",
       "  'UNEMPLOYMENT': 17.5,\n",
       "  'UNDEREMPLOYMENT': 17.6}}"
      ]
     },
     "execution_count": 21,
     "metadata": {},
     "output_type": "execute_result"
    }
   ],
   "source": [
    "map_data['features'][3]"
   ]
  },
  {
   "cell_type": "code",
   "execution_count": 11,
   "metadata": {},
   "outputs": [],
   "source": [
    "data = pd.read_csv(r'C:\\Users\\samue\\Documents\\emah\\lABOUR FORCE Q3 2018.csv')"
   ]
  },
  {
   "cell_type": "code",
   "execution_count": 12,
   "metadata": {},
   "outputs": [
    {
     "data": {
      "text/html": [
       "<div>\n",
       "<style scoped>\n",
       "    .dataframe tbody tr th:only-of-type {\n",
       "        vertical-align: middle;\n",
       "    }\n",
       "\n",
       "    .dataframe tbody tr th {\n",
       "        vertical-align: top;\n",
       "    }\n",
       "\n",
       "    .dataframe thead th {\n",
       "        text-align: right;\n",
       "    }\n",
       "</style>\n",
       "<table border=\"1\" class=\"dataframe\">\n",
       "  <thead>\n",
       "    <tr style=\"text-align: right;\">\n",
       "      <th></th>\n",
       "      <th>STATE</th>\n",
       "      <th>UNEMPLOYMENT</th>\n",
       "      <th>UNDEREMPLOYMENT</th>\n",
       "    </tr>\n",
       "  </thead>\n",
       "  <tbody>\n",
       "    <tr>\n",
       "      <th>0</th>\n",
       "      <td>ABIA</td>\n",
       "      <td>31.6</td>\n",
       "      <td>16.4</td>\n",
       "    </tr>\n",
       "    <tr>\n",
       "      <th>1</th>\n",
       "      <td>ADAMAWA</td>\n",
       "      <td>20.8</td>\n",
       "      <td>24.8</td>\n",
       "    </tr>\n",
       "    <tr>\n",
       "      <th>2</th>\n",
       "      <td>AKWA IBOM</td>\n",
       "      <td>37.7</td>\n",
       "      <td>20.1</td>\n",
       "    </tr>\n",
       "    <tr>\n",
       "      <th>3</th>\n",
       "      <td>ANAMBRA</td>\n",
       "      <td>17.5</td>\n",
       "      <td>17.6</td>\n",
       "    </tr>\n",
       "    <tr>\n",
       "      <th>4</th>\n",
       "      <td>BAUCHI</td>\n",
       "      <td>23.5</td>\n",
       "      <td>23.6</td>\n",
       "    </tr>\n",
       "  </tbody>\n",
       "</table>\n",
       "</div>"
      ],
      "text/plain": [
       "       STATE  UNEMPLOYMENT  UNDEREMPLOYMENT\n",
       "0       ABIA          31.6             16.4\n",
       "1    ADAMAWA          20.8             24.8\n",
       "2  AKWA IBOM          37.7             20.1\n",
       "3    ANAMBRA          17.5             17.6\n",
       "4     BAUCHI          23.5             23.6"
      ]
     },
     "execution_count": 12,
     "metadata": {},
     "output_type": "execute_result"
    }
   ],
   "source": [
    "data.head()"
   ]
  },
  {
   "cell_type": "code",
   "execution_count": 13,
   "metadata": {},
   "outputs": [
    {
     "data": {
      "text/html": [
       "<div>\n",
       "<style scoped>\n",
       "    .dataframe tbody tr th:only-of-type {\n",
       "        vertical-align: middle;\n",
       "    }\n",
       "\n",
       "    .dataframe tbody tr th {\n",
       "        vertical-align: top;\n",
       "    }\n",
       "\n",
       "    .dataframe thead th {\n",
       "        text-align: right;\n",
       "    }\n",
       "</style>\n",
       "<table border=\"1\" class=\"dataframe\">\n",
       "  <thead>\n",
       "    <tr style=\"text-align: right;\">\n",
       "      <th></th>\n",
       "      <th>STATE</th>\n",
       "      <th>UNEMPLOYMENT</th>\n",
       "      <th>UNDEREMPLOYMENT</th>\n",
       "    </tr>\n",
       "  </thead>\n",
       "  <tbody>\n",
       "    <tr>\n",
       "      <th>32</th>\n",
       "      <td>RIVERS</td>\n",
       "      <td>36.4</td>\n",
       "      <td>21.7</td>\n",
       "    </tr>\n",
       "    <tr>\n",
       "      <th>33</th>\n",
       "      <td>SOKOTO</td>\n",
       "      <td>26.0</td>\n",
       "      <td>26.6</td>\n",
       "    </tr>\n",
       "    <tr>\n",
       "      <th>34</th>\n",
       "      <td>TARABA</td>\n",
       "      <td>19.0</td>\n",
       "      <td>9.0</td>\n",
       "    </tr>\n",
       "    <tr>\n",
       "      <th>35</th>\n",
       "      <td>YOBE</td>\n",
       "      <td>29.0</td>\n",
       "      <td>30.0</td>\n",
       "    </tr>\n",
       "    <tr>\n",
       "      <th>36</th>\n",
       "      <td>ZAMFARA</td>\n",
       "      <td>18.0</td>\n",
       "      <td>23.0</td>\n",
       "    </tr>\n",
       "  </tbody>\n",
       "</table>\n",
       "</div>"
      ],
      "text/plain": [
       "      STATE  UNEMPLOYMENT  UNDEREMPLOYMENT\n",
       "32   RIVERS          36.4             21.7\n",
       "33   SOKOTO          26.0             26.6\n",
       "34   TARABA          19.0              9.0\n",
       "35     YOBE          29.0             30.0\n",
       "36  ZAMFARA          18.0             23.0"
      ]
     },
     "execution_count": 13,
     "metadata": {},
     "output_type": "execute_result"
    }
   ],
   "source": [
    "data.tail()"
   ]
  },
  {
   "cell_type": "code",
   "execution_count": 14,
   "metadata": {},
   "outputs": [],
   "source": [
    "coord = {'lat': 9.081875, 'lon':8.85337}"
   ]
  },
  {
   "cell_type": "code",
   "execution_count": 19,
   "metadata": {},
   "outputs": [
    {
     "data": {
      "application/vnd.plotly.v1+json": {
       "config": {
        "plotlyServerURL": "https://plot.ly"
       },
       "data": [
        {
         "coloraxis": "coloraxis",
         "geojson": {
          "features": [
           {
            "geometry": {
             "coordinates": {},
             "type": "Point"
            },
            "properties": {
             "STATE": "ABIA",
             "UNDEREMPLOYMENT": 16.4,
             "UNEMPLOYMENT": 31.6
            },
            "type": "Feature"
           },
           {
            "geometry": {
             "coordinates": {},
             "type": "Point"
            },
            "properties": {
             "STATE": "ADAMAWA",
             "UNDEREMPLOYMENT": 24.8,
             "UNEMPLOYMENT": 20.8
            },
            "type": "Feature"
           },
           {
            "geometry": {
             "coordinates": {},
             "type": "Point"
            },
            "properties": {
             "STATE": "AKWA IBOM",
             "UNDEREMPLOYMENT": 20.1,
             "UNEMPLOYMENT": 37.7
            },
            "type": "Feature"
           },
           {
            "geometry": {
             "coordinates": {},
             "type": "Point"
            },
            "properties": {
             "STATE": "ANAMBRA",
             "UNDEREMPLOYMENT": 17.6,
             "UNEMPLOYMENT": 17.5
            },
            "type": "Feature"
           },
           {
            "geometry": {
             "coordinates": {},
             "type": "Point"
            },
            "properties": {
             "STATE": "BAUCHI",
             "UNDEREMPLOYMENT": 23.6,
             "UNEMPLOYMENT": 23.5
            },
            "type": "Feature"
           },
           {
            "geometry": {
             "coordinates": {},
             "type": "Point"
            },
            "properties": {
             "STATE": "BAYELSA",
             "UNDEREMPLOYMENT": 17.2,
             "UNEMPLOYMENT": 32.6
            },
            "type": "Feature"
           },
           {
            "geometry": {
             "coordinates": {},
             "type": "Point"
            },
            "properties": {
             "STATE": "BENUE",
             "UNDEREMPLOYMENT": 25,
             "UNEMPLOYMENT": 20.1
            },
            "type": "Feature"
           },
           {
            "geometry": {
             "coordinates": {},
             "type": "Point"
            },
            "properties": {
             "STATE": "BORNO",
             "UNDEREMPLOYMENT": 25.5,
             "UNEMPLOYMENT": 31.4
            },
            "type": "Feature"
           },
           {
            "geometry": {
             "coordinates": {},
             "type": "Point"
            },
            "properties": {
             "STATE": "CROSS RIVER",
             "UNDEREMPLOYMENT": 19.9,
             "UNEMPLOYMENT": 30.6
            },
            "type": "Feature"
           },
           {
            "geometry": {
             "coordinates": {},
             "type": "Point"
            },
            "properties": {
             "STATE": "DELTA",
             "UNDEREMPLOYMENT": 17.9,
             "UNEMPLOYMENT": 25.4
            },
            "type": "Feature"
           },
           {
            "geometry": {
             "coordinates": {},
             "type": "Point"
            },
            "properties": {
             "STATE": "EBONYI",
             "UNDEREMPLOYMENT": 19.7,
             "UNEMPLOYMENT": 21.1
            },
            "type": "Feature"
           },
           {
            "geometry": {
             "coordinates": {},
             "type": "Point"
            },
            "properties": {
             "STATE": "EDO",
             "UNDEREMPLOYMENT": 18.4,
             "UNEMPLOYMENT": 25.1
            },
            "type": "Feature"
           },
           {
            "geometry": {
             "coordinates": {},
             "type": "Point"
            },
            "properties": {
             "STATE": "EKITI",
             "UNDEREMPLOYMENT": 14,
             "UNEMPLOYMENT": 20.2
            },
            "type": "Feature"
           },
           {
            "geometry": {
             "coordinates": {},
             "type": "Point"
            },
            "properties": {
             "STATE": "ENUGU",
             "UNDEREMPLOYMENT": 17.7,
             "UNEMPLOYMENT": 18.7
            },
            "type": "Feature"
           },
           {
            "geometry": {
             "coordinates": {},
             "type": "Point"
            },
            "properties": {
             "STATE": "FCT",
             "UNDEREMPLOYMENT": 16.1,
             "UNEMPLOYMENT": 24.4
            },
            "type": "Feature"
           },
           {
            "geometry": {
             "coordinates": {},
             "type": "Point"
            },
            "properties": {
             "STATE": "GOMBE",
             "UNDEREMPLOYMENT": 23.7,
             "UNEMPLOYMENT": 27
            },
            "type": "Feature"
           },
           {
            "geometry": {
             "coordinates": {},
             "type": "Point"
            },
            "properties": {
             "STATE": "IMO",
             "UNDEREMPLOYMENT": 15.1,
             "UNEMPLOYMENT": 28.2
            },
            "type": "Feature"
           },
           {
            "geometry": {
             "coordinates": {},
             "type": "Point"
            },
            "properties": {
             "STATE": "JIGAWA",
             "UNDEREMPLOYMENT": 38.1,
             "UNEMPLOYMENT": 26.5
            },
            "type": "Feature"
           },
           {
            "geometry": {
             "coordinates": {},
             "type": "Point"
            },
            "properties": {
             "STATE": "KADUNA",
             "UNDEREMPLOYMENT": 31,
             "UNEMPLOYMENT": 26.8
            },
            "type": "Feature"
           },
           {
            "geometry": {
             "coordinates": {},
             "type": "Point"
            },
            "properties": {
             "STATE": "KANO",
             "UNDEREMPLOYMENT": 24.3,
             "UNEMPLOYMENT": 31.3
            },
            "type": "Feature"
           },
           {
            "geometry": {
             "coordinates": {},
             "type": "Point"
            },
            "properties": {
             "STATE": "KASTINA",
             "UNDEREMPLOYMENT": 39.5,
             "UNEMPLOYMENT": 14.3
            },
            "type": "Feature"
           },
           {
            "geometry": {
             "coordinates": {},
             "type": "Point"
            },
            "properties": {
             "STATE": "KEBBI",
             "UNDEREMPLOYMENT": 16.9,
             "UNEMPLOYMENT": 20.1
            },
            "type": "Feature"
           },
           {
            "geometry": {
             "coordinates": {},
             "type": "Point"
            },
            "properties": {
             "STATE": "KOGI",
             "UNDEREMPLOYMENT": 24.8,
             "UNEMPLOYMENT": 19.7
            },
            "type": "Feature"
           },
           {
            "geometry": {
             "coordinates": {},
             "type": "Point"
            },
            "properties": {
             "STATE": "KWARA",
             "UNDEREMPLOYMENT": 21.4,
             "UNEMPLOYMENT": 21.1
            },
            "type": "Feature"
           },
           {
            "geometry": {
             "coordinates": {},
             "type": "Point"
            },
            "properties": {
             "STATE": "LAGOS",
             "UNDEREMPLOYMENT": 12.4,
             "UNEMPLOYMENT": 14.6
            },
            "type": "Feature"
           },
           {
            "geometry": {
             "coordinates": {},
             "type": "Point"
            },
            "properties": {
             "STATE": "NASARAWA",
             "UNDEREMPLOYMENT": 24.3,
             "UNEMPLOYMENT": 27.4
            },
            "type": "Feature"
           },
           {
            "geometry": {
             "coordinates": {},
             "type": "Point"
            },
            "properties": {
             "STATE": "NIGER",
             "UNDEREMPLOYMENT": 26.9,
             "UNEMPLOYMENT": 20.9
            },
            "type": "Feature"
           },
           {
            "geometry": {
             "coordinates": {},
             "type": "Point"
            },
            "properties": {
             "STATE": "OGUN",
             "UNDEREMPLOYMENT": 10.9,
             "UNEMPLOYMENT": 16.4
            },
            "type": "Feature"
           },
           {
            "geometry": {
             "coordinates": {},
             "type": "Point"
            },
            "properties": {
             "STATE": "ONDO",
             "UNDEREMPLOYMENT": 17.6,
             "UNEMPLOYMENT": 14.2
            },
            "type": "Feature"
           },
           {
            "geometry": {
             "coordinates": {},
             "type": "Point"
            },
            "properties": {
             "STATE": "OSUN",
             "UNDEREMPLOYMENT": 14.6,
             "UNEMPLOYMENT": 10.1
            },
            "type": "Feature"
           },
           {
            "geometry": {
             "coordinates": {},
             "type": "Point"
            },
            "properties": {
             "STATE": "OYO",
             "UNDEREMPLOYMENT": 14.3,
             "UNEMPLOYMENT": 10.3
            },
            "type": "Feature"
           },
           {
            "geometry": {
             "coordinates": {},
             "type": "Point"
            },
            "properties": {
             "STATE": "PLATEAU",
             "UNDEREMPLOYMENT": 21.8,
             "UNEMPLOYMENT": 29.8
            },
            "type": "Feature"
           },
           {
            "geometry": {
             "coordinates": {},
             "type": "Point"
            },
            "properties": {
             "STATE": "RIVERS",
             "UNDEREMPLOYMENT": 21.7,
             "UNEMPLOYMENT": 36.4
            },
            "type": "Feature"
           },
           {
            "geometry": {
             "coordinates": {},
             "type": "Point"
            },
            "properties": {
             "STATE": "SOKOTO",
             "UNDEREMPLOYMENT": 26.6,
             "UNEMPLOYMENT": 26
            },
            "type": "Feature"
           },
           {
            "geometry": {
             "coordinates": {},
             "type": "Point"
            },
            "properties": {
             "STATE": "TARABA",
             "UNDEREMPLOYMENT": 9,
             "UNEMPLOYMENT": 19
            },
            "type": "Feature"
           },
           {
            "geometry": {
             "coordinates": {},
             "type": "Point"
            },
            "properties": {
             "STATE": "YOBE",
             "UNDEREMPLOYMENT": 30,
             "UNEMPLOYMENT": 29
            },
            "type": "Feature"
           },
           {
            "geometry": {
             "coordinates": {},
             "type": "Point"
            },
            "properties": {
             "STATE": "ZAMFARA",
             "UNDEREMPLOYMENT": 23,
             "UNEMPLOYMENT": 18
            },
            "type": "Feature"
           }
          ],
          "type": "FeatureCollection"
         },
         "hovertemplate": "STATE=%{location}<br>UNEMPLOYMENT=%{z}<extra></extra>",
         "locations": [
          "ABIA",
          "ADAMAWA",
          "AKWA IBOM",
          "ANAMBRA",
          "BAUCHI",
          "BAYELSA",
          "BENUE",
          "BORNO",
          "CROSS RIVER",
          "DELTA",
          "EBONYI",
          "EDO",
          "EKITI",
          "ENUGU",
          "FCT",
          "GOMBE",
          "IMO",
          "JIGAWA",
          "KADUNA",
          "KANO",
          "KASTINA",
          "KEBBI",
          "KOGI",
          "KWARA",
          "LAGOS",
          "NASARAWA",
          "NIGER",
          "OGUN",
          "ONDO",
          "OSUN",
          "OYO",
          "PLATEAU",
          "RIVERS",
          "SOKOTO",
          "TARABA",
          "YOBE",
          "ZAMFARA"
         ],
         "marker": {
          "opacity": 0.5
         },
         "name": "",
         "subplot": "mapbox",
         "type": "choroplethmapbox",
         "z": [
          31.6,
          20.8,
          37.7,
          17.5,
          23.5,
          32.6,
          20.1,
          31.4,
          30.6,
          25.4,
          21.1,
          25.1,
          20.2,
          18.7,
          24.4,
          27,
          28.2,
          26.5,
          26.8,
          31.3,
          14.3,
          20.1,
          19.7,
          21.1,
          14.6,
          27.4,
          20.9,
          16.4,
          14.2,
          10.1,
          10.3,
          29.8,
          36.4,
          26,
          19,
          29,
          18
         ]
        }
       ],
       "layout": {
        "coloraxis": {
         "colorbar": {
          "title": {
           "text": "UNEMPLOYMENT"
          }
         },
         "colorscale": [
          [
           0,
           "rgb(150,0,90)"
          ],
          [
           0.125,
           "rgb(0,0,200)"
          ],
          [
           0.25,
           "rgb(0,25,255)"
          ],
          [
           0.375,
           "rgb(0,152,255)"
          ],
          [
           0.5,
           "rgb(44,255,150)"
          ],
          [
           0.625,
           "rgb(151,255,0)"
          ],
          [
           0.75,
           "rgb(255,234,0)"
          ],
          [
           0.875,
           "rgb(255,111,0)"
          ],
          [
           1,
           "rgb(255,0,0)"
          ]
         ]
        },
        "legend": {
         "tracegroupgap": 0
        },
        "mapbox": {
         "center": {
          "lat": 9.081875,
          "lon": 8.85337
         },
         "domain": {
          "x": [
           0,
           1
          ],
          "y": [
           0,
           1
          ]
         },
         "style": "carto-positron",
         "zoom": 3
        },
        "margin": {
         "b": 0,
         "l": 0,
         "r": 0,
         "t": 0
        },
        "template": {
         "data": {
          "bar": [
           {
            "error_x": {
             "color": "#2a3f5f"
            },
            "error_y": {
             "color": "#2a3f5f"
            },
            "marker": {
             "line": {
              "color": "#E5ECF6",
              "width": 0.5
             }
            },
            "type": "bar"
           }
          ],
          "barpolar": [
           {
            "marker": {
             "line": {
              "color": "#E5ECF6",
              "width": 0.5
             }
            },
            "type": "barpolar"
           }
          ],
          "carpet": [
           {
            "aaxis": {
             "endlinecolor": "#2a3f5f",
             "gridcolor": "white",
             "linecolor": "white",
             "minorgridcolor": "white",
             "startlinecolor": "#2a3f5f"
            },
            "baxis": {
             "endlinecolor": "#2a3f5f",
             "gridcolor": "white",
             "linecolor": "white",
             "minorgridcolor": "white",
             "startlinecolor": "#2a3f5f"
            },
            "type": "carpet"
           }
          ],
          "choropleth": [
           {
            "colorbar": {
             "outlinewidth": 0,
             "ticks": ""
            },
            "type": "choropleth"
           }
          ],
          "contour": [
           {
            "colorbar": {
             "outlinewidth": 0,
             "ticks": ""
            },
            "colorscale": [
             [
              0,
              "#0d0887"
             ],
             [
              0.1111111111111111,
              "#46039f"
             ],
             [
              0.2222222222222222,
              "#7201a8"
             ],
             [
              0.3333333333333333,
              "#9c179e"
             ],
             [
              0.4444444444444444,
              "#bd3786"
             ],
             [
              0.5555555555555556,
              "#d8576b"
             ],
             [
              0.6666666666666666,
              "#ed7953"
             ],
             [
              0.7777777777777778,
              "#fb9f3a"
             ],
             [
              0.8888888888888888,
              "#fdca26"
             ],
             [
              1,
              "#f0f921"
             ]
            ],
            "type": "contour"
           }
          ],
          "contourcarpet": [
           {
            "colorbar": {
             "outlinewidth": 0,
             "ticks": ""
            },
            "type": "contourcarpet"
           }
          ],
          "heatmap": [
           {
            "colorbar": {
             "outlinewidth": 0,
             "ticks": ""
            },
            "colorscale": [
             [
              0,
              "#0d0887"
             ],
             [
              0.1111111111111111,
              "#46039f"
             ],
             [
              0.2222222222222222,
              "#7201a8"
             ],
             [
              0.3333333333333333,
              "#9c179e"
             ],
             [
              0.4444444444444444,
              "#bd3786"
             ],
             [
              0.5555555555555556,
              "#d8576b"
             ],
             [
              0.6666666666666666,
              "#ed7953"
             ],
             [
              0.7777777777777778,
              "#fb9f3a"
             ],
             [
              0.8888888888888888,
              "#fdca26"
             ],
             [
              1,
              "#f0f921"
             ]
            ],
            "type": "heatmap"
           }
          ],
          "heatmapgl": [
           {
            "colorbar": {
             "outlinewidth": 0,
             "ticks": ""
            },
            "colorscale": [
             [
              0,
              "#0d0887"
             ],
             [
              0.1111111111111111,
              "#46039f"
             ],
             [
              0.2222222222222222,
              "#7201a8"
             ],
             [
              0.3333333333333333,
              "#9c179e"
             ],
             [
              0.4444444444444444,
              "#bd3786"
             ],
             [
              0.5555555555555556,
              "#d8576b"
             ],
             [
              0.6666666666666666,
              "#ed7953"
             ],
             [
              0.7777777777777778,
              "#fb9f3a"
             ],
             [
              0.8888888888888888,
              "#fdca26"
             ],
             [
              1,
              "#f0f921"
             ]
            ],
            "type": "heatmapgl"
           }
          ],
          "histogram": [
           {
            "marker": {
             "colorbar": {
              "outlinewidth": 0,
              "ticks": ""
             }
            },
            "type": "histogram"
           }
          ],
          "histogram2d": [
           {
            "colorbar": {
             "outlinewidth": 0,
             "ticks": ""
            },
            "colorscale": [
             [
              0,
              "#0d0887"
             ],
             [
              0.1111111111111111,
              "#46039f"
             ],
             [
              0.2222222222222222,
              "#7201a8"
             ],
             [
              0.3333333333333333,
              "#9c179e"
             ],
             [
              0.4444444444444444,
              "#bd3786"
             ],
             [
              0.5555555555555556,
              "#d8576b"
             ],
             [
              0.6666666666666666,
              "#ed7953"
             ],
             [
              0.7777777777777778,
              "#fb9f3a"
             ],
             [
              0.8888888888888888,
              "#fdca26"
             ],
             [
              1,
              "#f0f921"
             ]
            ],
            "type": "histogram2d"
           }
          ],
          "histogram2dcontour": [
           {
            "colorbar": {
             "outlinewidth": 0,
             "ticks": ""
            },
            "colorscale": [
             [
              0,
              "#0d0887"
             ],
             [
              0.1111111111111111,
              "#46039f"
             ],
             [
              0.2222222222222222,
              "#7201a8"
             ],
             [
              0.3333333333333333,
              "#9c179e"
             ],
             [
              0.4444444444444444,
              "#bd3786"
             ],
             [
              0.5555555555555556,
              "#d8576b"
             ],
             [
              0.6666666666666666,
              "#ed7953"
             ],
             [
              0.7777777777777778,
              "#fb9f3a"
             ],
             [
              0.8888888888888888,
              "#fdca26"
             ],
             [
              1,
              "#f0f921"
             ]
            ],
            "type": "histogram2dcontour"
           }
          ],
          "mesh3d": [
           {
            "colorbar": {
             "outlinewidth": 0,
             "ticks": ""
            },
            "type": "mesh3d"
           }
          ],
          "parcoords": [
           {
            "line": {
             "colorbar": {
              "outlinewidth": 0,
              "ticks": ""
             }
            },
            "type": "parcoords"
           }
          ],
          "pie": [
           {
            "automargin": true,
            "type": "pie"
           }
          ],
          "scatter": [
           {
            "marker": {
             "colorbar": {
              "outlinewidth": 0,
              "ticks": ""
             }
            },
            "type": "scatter"
           }
          ],
          "scatter3d": [
           {
            "line": {
             "colorbar": {
              "outlinewidth": 0,
              "ticks": ""
             }
            },
            "marker": {
             "colorbar": {
              "outlinewidth": 0,
              "ticks": ""
             }
            },
            "type": "scatter3d"
           }
          ],
          "scattercarpet": [
           {
            "marker": {
             "colorbar": {
              "outlinewidth": 0,
              "ticks": ""
             }
            },
            "type": "scattercarpet"
           }
          ],
          "scattergeo": [
           {
            "marker": {
             "colorbar": {
              "outlinewidth": 0,
              "ticks": ""
             }
            },
            "type": "scattergeo"
           }
          ],
          "scattergl": [
           {
            "marker": {
             "colorbar": {
              "outlinewidth": 0,
              "ticks": ""
             }
            },
            "type": "scattergl"
           }
          ],
          "scattermapbox": [
           {
            "marker": {
             "colorbar": {
              "outlinewidth": 0,
              "ticks": ""
             }
            },
            "type": "scattermapbox"
           }
          ],
          "scatterpolar": [
           {
            "marker": {
             "colorbar": {
              "outlinewidth": 0,
              "ticks": ""
             }
            },
            "type": "scatterpolar"
           }
          ],
          "scatterpolargl": [
           {
            "marker": {
             "colorbar": {
              "outlinewidth": 0,
              "ticks": ""
             }
            },
            "type": "scatterpolargl"
           }
          ],
          "scatterternary": [
           {
            "marker": {
             "colorbar": {
              "outlinewidth": 0,
              "ticks": ""
             }
            },
            "type": "scatterternary"
           }
          ],
          "surface": [
           {
            "colorbar": {
             "outlinewidth": 0,
             "ticks": ""
            },
            "colorscale": [
             [
              0,
              "#0d0887"
             ],
             [
              0.1111111111111111,
              "#46039f"
             ],
             [
              0.2222222222222222,
              "#7201a8"
             ],
             [
              0.3333333333333333,
              "#9c179e"
             ],
             [
              0.4444444444444444,
              "#bd3786"
             ],
             [
              0.5555555555555556,
              "#d8576b"
             ],
             [
              0.6666666666666666,
              "#ed7953"
             ],
             [
              0.7777777777777778,
              "#fb9f3a"
             ],
             [
              0.8888888888888888,
              "#fdca26"
             ],
             [
              1,
              "#f0f921"
             ]
            ],
            "type": "surface"
           }
          ],
          "table": [
           {
            "cells": {
             "fill": {
              "color": "#EBF0F8"
             },
             "line": {
              "color": "white"
             }
            },
            "header": {
             "fill": {
              "color": "#C8D4E3"
             },
             "line": {
              "color": "white"
             }
            },
            "type": "table"
           }
          ]
         },
         "layout": {
          "annotationdefaults": {
           "arrowcolor": "#2a3f5f",
           "arrowhead": 0,
           "arrowwidth": 1
          },
          "autotypenumbers": "strict",
          "coloraxis": {
           "colorbar": {
            "outlinewidth": 0,
            "ticks": ""
           }
          },
          "colorscale": {
           "diverging": [
            [
             0,
             "#8e0152"
            ],
            [
             0.1,
             "#c51b7d"
            ],
            [
             0.2,
             "#de77ae"
            ],
            [
             0.3,
             "#f1b6da"
            ],
            [
             0.4,
             "#fde0ef"
            ],
            [
             0.5,
             "#f7f7f7"
            ],
            [
             0.6,
             "#e6f5d0"
            ],
            [
             0.7,
             "#b8e186"
            ],
            [
             0.8,
             "#7fbc41"
            ],
            [
             0.9,
             "#4d9221"
            ],
            [
             1,
             "#276419"
            ]
           ],
           "sequential": [
            [
             0,
             "#0d0887"
            ],
            [
             0.1111111111111111,
             "#46039f"
            ],
            [
             0.2222222222222222,
             "#7201a8"
            ],
            [
             0.3333333333333333,
             "#9c179e"
            ],
            [
             0.4444444444444444,
             "#bd3786"
            ],
            [
             0.5555555555555556,
             "#d8576b"
            ],
            [
             0.6666666666666666,
             "#ed7953"
            ],
            [
             0.7777777777777778,
             "#fb9f3a"
            ],
            [
             0.8888888888888888,
             "#fdca26"
            ],
            [
             1,
             "#f0f921"
            ]
           ],
           "sequentialminus": [
            [
             0,
             "#0d0887"
            ],
            [
             0.1111111111111111,
             "#46039f"
            ],
            [
             0.2222222222222222,
             "#7201a8"
            ],
            [
             0.3333333333333333,
             "#9c179e"
            ],
            [
             0.4444444444444444,
             "#bd3786"
            ],
            [
             0.5555555555555556,
             "#d8576b"
            ],
            [
             0.6666666666666666,
             "#ed7953"
            ],
            [
             0.7777777777777778,
             "#fb9f3a"
            ],
            [
             0.8888888888888888,
             "#fdca26"
            ],
            [
             1,
             "#f0f921"
            ]
           ]
          },
          "colorway": [
           "#636efa",
           "#EF553B",
           "#00cc96",
           "#ab63fa",
           "#FFA15A",
           "#19d3f3",
           "#FF6692",
           "#B6E880",
           "#FF97FF",
           "#FECB52"
          ],
          "font": {
           "color": "#2a3f5f"
          },
          "geo": {
           "bgcolor": "white",
           "lakecolor": "white",
           "landcolor": "#E5ECF6",
           "showlakes": true,
           "showland": true,
           "subunitcolor": "white"
          },
          "hoverlabel": {
           "align": "left"
          },
          "hovermode": "closest",
          "mapbox": {
           "style": "light"
          },
          "paper_bgcolor": "white",
          "plot_bgcolor": "#E5ECF6",
          "polar": {
           "angularaxis": {
            "gridcolor": "white",
            "linecolor": "white",
            "ticks": ""
           },
           "bgcolor": "#E5ECF6",
           "radialaxis": {
            "gridcolor": "white",
            "linecolor": "white",
            "ticks": ""
           }
          },
          "scene": {
           "xaxis": {
            "backgroundcolor": "#E5ECF6",
            "gridcolor": "white",
            "gridwidth": 2,
            "linecolor": "white",
            "showbackground": true,
            "ticks": "",
            "zerolinecolor": "white"
           },
           "yaxis": {
            "backgroundcolor": "#E5ECF6",
            "gridcolor": "white",
            "gridwidth": 2,
            "linecolor": "white",
            "showbackground": true,
            "ticks": "",
            "zerolinecolor": "white"
           },
           "zaxis": {
            "backgroundcolor": "#E5ECF6",
            "gridcolor": "white",
            "gridwidth": 2,
            "linecolor": "white",
            "showbackground": true,
            "ticks": "",
            "zerolinecolor": "white"
           }
          },
          "shapedefaults": {
           "line": {
            "color": "#2a3f5f"
           }
          },
          "ternary": {
           "aaxis": {
            "gridcolor": "white",
            "linecolor": "white",
            "ticks": ""
           },
           "baxis": {
            "gridcolor": "white",
            "linecolor": "white",
            "ticks": ""
           },
           "bgcolor": "#E5ECF6",
           "caxis": {
            "gridcolor": "white",
            "linecolor": "white",
            "ticks": ""
           }
          },
          "title": {
           "x": 0.05
          },
          "xaxis": {
           "automargin": true,
           "gridcolor": "white",
           "linecolor": "white",
           "ticks": "",
           "title": {
            "standoff": 15
           },
           "zerolinecolor": "white",
           "zerolinewidth": 2
          },
          "yaxis": {
           "automargin": true,
           "gridcolor": "white",
           "linecolor": "white",
           "ticks": "",
           "title": {
            "standoff": 15
           },
           "zerolinecolor": "white",
           "zerolinewidth": 2
          }
         }
        }
       }
      },
      "text/html": [
       "<div>                            <div id=\"c1e2f91b-3553-4d3e-a4d6-557dfe4089eb\" class=\"plotly-graph-div\" style=\"height:525px; width:100%;\"></div>            <script type=\"text/javascript\">                require([\"plotly\"], function(Plotly) {                    window.PLOTLYENV=window.PLOTLYENV || {};                                    if (document.getElementById(\"c1e2f91b-3553-4d3e-a4d6-557dfe4089eb\")) {                    Plotly.newPlot(                        \"c1e2f91b-3553-4d3e-a4d6-557dfe4089eb\",                        [{\"coloraxis\": \"coloraxis\", \"geojson\": {\"features\": [{\"geometry\": {\"coordinates\": {}, \"type\": \"Point\"}, \"properties\": {\"STATE\": \"ABIA\", \"UNDEREMPLOYMENT\": 16.4, \"UNEMPLOYMENT\": 31.6}, \"type\": \"Feature\"}, {\"geometry\": {\"coordinates\": {}, \"type\": \"Point\"}, \"properties\": {\"STATE\": \"ADAMAWA\", \"UNDEREMPLOYMENT\": 24.8, \"UNEMPLOYMENT\": 20.8}, \"type\": \"Feature\"}, {\"geometry\": {\"coordinates\": {}, \"type\": \"Point\"}, \"properties\": {\"STATE\": \"AKWA IBOM\", \"UNDEREMPLOYMENT\": 20.1, \"UNEMPLOYMENT\": 37.7}, \"type\": \"Feature\"}, {\"geometry\": {\"coordinates\": {}, \"type\": \"Point\"}, \"properties\": {\"STATE\": \"ANAMBRA\", \"UNDEREMPLOYMENT\": 17.6, \"UNEMPLOYMENT\": 17.5}, \"type\": \"Feature\"}, {\"geometry\": {\"coordinates\": {}, \"type\": \"Point\"}, \"properties\": {\"STATE\": \"BAUCHI\", \"UNDEREMPLOYMENT\": 23.6, \"UNEMPLOYMENT\": 23.5}, \"type\": \"Feature\"}, {\"geometry\": {\"coordinates\": {}, \"type\": \"Point\"}, \"properties\": {\"STATE\": \"BAYELSA\", \"UNDEREMPLOYMENT\": 17.2, \"UNEMPLOYMENT\": 32.6}, \"type\": \"Feature\"}, {\"geometry\": {\"coordinates\": {}, \"type\": \"Point\"}, \"properties\": {\"STATE\": \"BENUE\", \"UNDEREMPLOYMENT\": 25, \"UNEMPLOYMENT\": 20.1}, \"type\": \"Feature\"}, {\"geometry\": {\"coordinates\": {}, \"type\": \"Point\"}, \"properties\": {\"STATE\": \"BORNO\", \"UNDEREMPLOYMENT\": 25.5, \"UNEMPLOYMENT\": 31.4}, \"type\": \"Feature\"}, {\"geometry\": {\"coordinates\": {}, \"type\": \"Point\"}, \"properties\": {\"STATE\": \"CROSS RIVER\", \"UNDEREMPLOYMENT\": 19.9, \"UNEMPLOYMENT\": 30.6}, \"type\": \"Feature\"}, {\"geometry\": {\"coordinates\": {}, \"type\": \"Point\"}, \"properties\": {\"STATE\": \"DELTA\", \"UNDEREMPLOYMENT\": 17.9, \"UNEMPLOYMENT\": 25.4}, \"type\": \"Feature\"}, {\"geometry\": {\"coordinates\": {}, \"type\": \"Point\"}, \"properties\": {\"STATE\": \"EBONYI\", \"UNDEREMPLOYMENT\": 19.7, \"UNEMPLOYMENT\": 21.1}, \"type\": \"Feature\"}, {\"geometry\": {\"coordinates\": {}, \"type\": \"Point\"}, \"properties\": {\"STATE\": \"EDO\", \"UNDEREMPLOYMENT\": 18.4, \"UNEMPLOYMENT\": 25.1}, \"type\": \"Feature\"}, {\"geometry\": {\"coordinates\": {}, \"type\": \"Point\"}, \"properties\": {\"STATE\": \"EKITI\", \"UNDEREMPLOYMENT\": 14, \"UNEMPLOYMENT\": 20.2}, \"type\": \"Feature\"}, {\"geometry\": {\"coordinates\": {}, \"type\": \"Point\"}, \"properties\": {\"STATE\": \"ENUGU\", \"UNDEREMPLOYMENT\": 17.7, \"UNEMPLOYMENT\": 18.7}, \"type\": \"Feature\"}, {\"geometry\": {\"coordinates\": {}, \"type\": \"Point\"}, \"properties\": {\"STATE\": \"FCT\", \"UNDEREMPLOYMENT\": 16.1, \"UNEMPLOYMENT\": 24.4}, \"type\": \"Feature\"}, {\"geometry\": {\"coordinates\": {}, \"type\": \"Point\"}, \"properties\": {\"STATE\": \"GOMBE\", \"UNDEREMPLOYMENT\": 23.7, \"UNEMPLOYMENT\": 27}, \"type\": \"Feature\"}, {\"geometry\": {\"coordinates\": {}, \"type\": \"Point\"}, \"properties\": {\"STATE\": \"IMO\", \"UNDEREMPLOYMENT\": 15.1, \"UNEMPLOYMENT\": 28.2}, \"type\": \"Feature\"}, {\"geometry\": {\"coordinates\": {}, \"type\": \"Point\"}, \"properties\": {\"STATE\": \"JIGAWA\", \"UNDEREMPLOYMENT\": 38.1, \"UNEMPLOYMENT\": 26.5}, \"type\": \"Feature\"}, {\"geometry\": {\"coordinates\": {}, \"type\": \"Point\"}, \"properties\": {\"STATE\": \"KADUNA\", \"UNDEREMPLOYMENT\": 31, \"UNEMPLOYMENT\": 26.8}, \"type\": \"Feature\"}, {\"geometry\": {\"coordinates\": {}, \"type\": \"Point\"}, \"properties\": {\"STATE\": \"KANO\", \"UNDEREMPLOYMENT\": 24.3, \"UNEMPLOYMENT\": 31.3}, \"type\": \"Feature\"}, {\"geometry\": {\"coordinates\": {}, \"type\": \"Point\"}, \"properties\": {\"STATE\": \"KASTINA\", \"UNDEREMPLOYMENT\": 39.5, \"UNEMPLOYMENT\": 14.3}, \"type\": \"Feature\"}, {\"geometry\": {\"coordinates\": {}, \"type\": \"Point\"}, \"properties\": {\"STATE\": \"KEBBI\", \"UNDEREMPLOYMENT\": 16.9, \"UNEMPLOYMENT\": 20.1}, \"type\": \"Feature\"}, {\"geometry\": {\"coordinates\": {}, \"type\": \"Point\"}, \"properties\": {\"STATE\": \"KOGI\", \"UNDEREMPLOYMENT\": 24.8, \"UNEMPLOYMENT\": 19.7}, \"type\": \"Feature\"}, {\"geometry\": {\"coordinates\": {}, \"type\": \"Point\"}, \"properties\": {\"STATE\": \"KWARA\", \"UNDEREMPLOYMENT\": 21.4, \"UNEMPLOYMENT\": 21.1}, \"type\": \"Feature\"}, {\"geometry\": {\"coordinates\": {}, \"type\": \"Point\"}, \"properties\": {\"STATE\": \"LAGOS\", \"UNDEREMPLOYMENT\": 12.4, \"UNEMPLOYMENT\": 14.6}, \"type\": \"Feature\"}, {\"geometry\": {\"coordinates\": {}, \"type\": \"Point\"}, \"properties\": {\"STATE\": \"NASARAWA\", \"UNDEREMPLOYMENT\": 24.3, \"UNEMPLOYMENT\": 27.4}, \"type\": \"Feature\"}, {\"geometry\": {\"coordinates\": {}, \"type\": \"Point\"}, \"properties\": {\"STATE\": \"NIGER\", \"UNDEREMPLOYMENT\": 26.9, \"UNEMPLOYMENT\": 20.9}, \"type\": \"Feature\"}, {\"geometry\": {\"coordinates\": {}, \"type\": \"Point\"}, \"properties\": {\"STATE\": \"OGUN\", \"UNDEREMPLOYMENT\": 10.9, \"UNEMPLOYMENT\": 16.4}, \"type\": \"Feature\"}, {\"geometry\": {\"coordinates\": {}, \"type\": \"Point\"}, \"properties\": {\"STATE\": \"ONDO\", \"UNDEREMPLOYMENT\": 17.6, \"UNEMPLOYMENT\": 14.2}, \"type\": \"Feature\"}, {\"geometry\": {\"coordinates\": {}, \"type\": \"Point\"}, \"properties\": {\"STATE\": \"OSUN\", \"UNDEREMPLOYMENT\": 14.6, \"UNEMPLOYMENT\": 10.1}, \"type\": \"Feature\"}, {\"geometry\": {\"coordinates\": {}, \"type\": \"Point\"}, \"properties\": {\"STATE\": \"OYO\", \"UNDEREMPLOYMENT\": 14.3, \"UNEMPLOYMENT\": 10.3}, \"type\": \"Feature\"}, {\"geometry\": {\"coordinates\": {}, \"type\": \"Point\"}, \"properties\": {\"STATE\": \"PLATEAU\", \"UNDEREMPLOYMENT\": 21.8, \"UNEMPLOYMENT\": 29.8}, \"type\": \"Feature\"}, {\"geometry\": {\"coordinates\": {}, \"type\": \"Point\"}, \"properties\": {\"STATE\": \"RIVERS\", \"UNDEREMPLOYMENT\": 21.7, \"UNEMPLOYMENT\": 36.4}, \"type\": \"Feature\"}, {\"geometry\": {\"coordinates\": {}, \"type\": \"Point\"}, \"properties\": {\"STATE\": \"SOKOTO\", \"UNDEREMPLOYMENT\": 26.6, \"UNEMPLOYMENT\": 26}, \"type\": \"Feature\"}, {\"geometry\": {\"coordinates\": {}, \"type\": \"Point\"}, \"properties\": {\"STATE\": \"TARABA\", \"UNDEREMPLOYMENT\": 9, \"UNEMPLOYMENT\": 19}, \"type\": \"Feature\"}, {\"geometry\": {\"coordinates\": {}, \"type\": \"Point\"}, \"properties\": {\"STATE\": \"YOBE\", \"UNDEREMPLOYMENT\": 30, \"UNEMPLOYMENT\": 29}, \"type\": \"Feature\"}, {\"geometry\": {\"coordinates\": {}, \"type\": \"Point\"}, \"properties\": {\"STATE\": \"ZAMFARA\", \"UNDEREMPLOYMENT\": 23, \"UNEMPLOYMENT\": 18}, \"type\": \"Feature\"}], \"type\": \"FeatureCollection\"}, \"hovertemplate\": \"STATE=%{location}<br>UNEMPLOYMENT=%{z}<extra></extra>\", \"locations\": [\"ABIA\", \"ADAMAWA\", \"AKWA IBOM\", \"ANAMBRA\", \"BAUCHI\", \"BAYELSA\", \"BENUE\", \"BORNO\", \"CROSS RIVER\", \"DELTA\", \"EBONYI\", \"EDO\", \"EKITI\", \"ENUGU\", \"FCT\", \"GOMBE\", \"IMO\", \"JIGAWA\", \"KADUNA\", \"KANO\", \"KASTINA\", \"KEBBI\", \"KOGI\", \"KWARA\", \"LAGOS\", \"NASARAWA\", \"NIGER\", \"OGUN\", \"ONDO\", \"OSUN\", \"OYO\", \"PLATEAU\", \"RIVERS\", \"SOKOTO\", \"TARABA\", \"YOBE\", \"ZAMFARA\"], \"marker\": {\"opacity\": 0.5}, \"name\": \"\", \"subplot\": \"mapbox\", \"type\": \"choroplethmapbox\", \"z\": [31.6, 20.8, 37.7, 17.5, 23.5, 32.6, 20.1, 31.4, 30.6, 25.4, 21.1, 25.1, 20.2, 18.7, 24.4, 27.0, 28.2, 26.5, 26.8, 31.3, 14.3, 20.1, 19.7, 21.1, 14.6, 27.4, 20.9, 16.4, 14.2, 10.1, 10.3, 29.8, 36.4, 26.0, 19.0, 29.0, 18.0]}],                        {\"coloraxis\": {\"colorbar\": {\"title\": {\"text\": \"UNEMPLOYMENT\"}}, \"colorscale\": [[0.0, \"rgb(150,0,90)\"], [0.125, \"rgb(0,0,200)\"], [0.25, \"rgb(0,25,255)\"], [0.375, \"rgb(0,152,255)\"], [0.5, \"rgb(44,255,150)\"], [0.625, \"rgb(151,255,0)\"], [0.75, \"rgb(255,234,0)\"], [0.875, \"rgb(255,111,0)\"], [1.0, \"rgb(255,0,0)\"]]}, \"legend\": {\"tracegroupgap\": 0}, \"mapbox\": {\"center\": {\"lat\": 9.081875, \"lon\": 8.85337}, \"domain\": {\"x\": [0.0, 1.0], \"y\": [0.0, 1.0]}, \"style\": \"carto-positron\", \"zoom\": 3}, \"margin\": {\"b\": 0, \"l\": 0, \"r\": 0, \"t\": 0}, \"template\": {\"data\": {\"bar\": [{\"error_x\": {\"color\": \"#2a3f5f\"}, \"error_y\": {\"color\": \"#2a3f5f\"}, \"marker\": {\"line\": {\"color\": \"#E5ECF6\", \"width\": 0.5}}, \"type\": \"bar\"}], \"barpolar\": [{\"marker\": {\"line\": {\"color\": \"#E5ECF6\", \"width\": 0.5}}, \"type\": \"barpolar\"}], \"carpet\": [{\"aaxis\": {\"endlinecolor\": \"#2a3f5f\", \"gridcolor\": \"white\", \"linecolor\": \"white\", \"minorgridcolor\": \"white\", \"startlinecolor\": \"#2a3f5f\"}, \"baxis\": {\"endlinecolor\": \"#2a3f5f\", \"gridcolor\": \"white\", \"linecolor\": \"white\", \"minorgridcolor\": \"white\", \"startlinecolor\": \"#2a3f5f\"}, \"type\": \"carpet\"}], \"choropleth\": [{\"colorbar\": {\"outlinewidth\": 0, \"ticks\": \"\"}, \"type\": \"choropleth\"}], \"contour\": [{\"colorbar\": {\"outlinewidth\": 0, \"ticks\": \"\"}, \"colorscale\": [[0.0, \"#0d0887\"], [0.1111111111111111, \"#46039f\"], [0.2222222222222222, \"#7201a8\"], [0.3333333333333333, \"#9c179e\"], [0.4444444444444444, \"#bd3786\"], [0.5555555555555556, \"#d8576b\"], [0.6666666666666666, \"#ed7953\"], [0.7777777777777778, \"#fb9f3a\"], [0.8888888888888888, \"#fdca26\"], [1.0, \"#f0f921\"]], \"type\": \"contour\"}], \"contourcarpet\": [{\"colorbar\": {\"outlinewidth\": 0, \"ticks\": \"\"}, \"type\": \"contourcarpet\"}], \"heatmap\": [{\"colorbar\": {\"outlinewidth\": 0, \"ticks\": \"\"}, \"colorscale\": [[0.0, \"#0d0887\"], [0.1111111111111111, \"#46039f\"], [0.2222222222222222, \"#7201a8\"], [0.3333333333333333, \"#9c179e\"], [0.4444444444444444, \"#bd3786\"], [0.5555555555555556, \"#d8576b\"], [0.6666666666666666, \"#ed7953\"], [0.7777777777777778, \"#fb9f3a\"], [0.8888888888888888, \"#fdca26\"], [1.0, \"#f0f921\"]], \"type\": \"heatmap\"}], \"heatmapgl\": [{\"colorbar\": {\"outlinewidth\": 0, \"ticks\": \"\"}, \"colorscale\": [[0.0, \"#0d0887\"], [0.1111111111111111, \"#46039f\"], [0.2222222222222222, \"#7201a8\"], [0.3333333333333333, \"#9c179e\"], [0.4444444444444444, \"#bd3786\"], [0.5555555555555556, \"#d8576b\"], [0.6666666666666666, \"#ed7953\"], [0.7777777777777778, \"#fb9f3a\"], [0.8888888888888888, \"#fdca26\"], [1.0, \"#f0f921\"]], \"type\": \"heatmapgl\"}], \"histogram\": [{\"marker\": {\"colorbar\": {\"outlinewidth\": 0, \"ticks\": \"\"}}, \"type\": \"histogram\"}], \"histogram2d\": [{\"colorbar\": {\"outlinewidth\": 0, \"ticks\": \"\"}, \"colorscale\": [[0.0, \"#0d0887\"], [0.1111111111111111, \"#46039f\"], [0.2222222222222222, \"#7201a8\"], [0.3333333333333333, \"#9c179e\"], [0.4444444444444444, \"#bd3786\"], [0.5555555555555556, \"#d8576b\"], [0.6666666666666666, \"#ed7953\"], [0.7777777777777778, \"#fb9f3a\"], [0.8888888888888888, \"#fdca26\"], [1.0, \"#f0f921\"]], \"type\": \"histogram2d\"}], \"histogram2dcontour\": [{\"colorbar\": {\"outlinewidth\": 0, \"ticks\": \"\"}, \"colorscale\": [[0.0, \"#0d0887\"], [0.1111111111111111, \"#46039f\"], [0.2222222222222222, \"#7201a8\"], [0.3333333333333333, \"#9c179e\"], [0.4444444444444444, \"#bd3786\"], [0.5555555555555556, \"#d8576b\"], [0.6666666666666666, \"#ed7953\"], [0.7777777777777778, \"#fb9f3a\"], [0.8888888888888888, \"#fdca26\"], [1.0, \"#f0f921\"]], \"type\": \"histogram2dcontour\"}], \"mesh3d\": [{\"colorbar\": {\"outlinewidth\": 0, \"ticks\": \"\"}, \"type\": \"mesh3d\"}], \"parcoords\": [{\"line\": {\"colorbar\": {\"outlinewidth\": 0, \"ticks\": \"\"}}, \"type\": \"parcoords\"}], \"pie\": [{\"automargin\": true, \"type\": \"pie\"}], \"scatter\": [{\"marker\": {\"colorbar\": {\"outlinewidth\": 0, \"ticks\": \"\"}}, \"type\": \"scatter\"}], \"scatter3d\": [{\"line\": {\"colorbar\": {\"outlinewidth\": 0, \"ticks\": \"\"}}, \"marker\": {\"colorbar\": {\"outlinewidth\": 0, \"ticks\": \"\"}}, \"type\": \"scatter3d\"}], \"scattercarpet\": [{\"marker\": {\"colorbar\": {\"outlinewidth\": 0, \"ticks\": \"\"}}, \"type\": \"scattercarpet\"}], \"scattergeo\": [{\"marker\": {\"colorbar\": {\"outlinewidth\": 0, \"ticks\": \"\"}}, \"type\": \"scattergeo\"}], \"scattergl\": [{\"marker\": {\"colorbar\": {\"outlinewidth\": 0, \"ticks\": \"\"}}, \"type\": \"scattergl\"}], \"scattermapbox\": [{\"marker\": {\"colorbar\": {\"outlinewidth\": 0, \"ticks\": \"\"}}, \"type\": \"scattermapbox\"}], \"scatterpolar\": [{\"marker\": {\"colorbar\": {\"outlinewidth\": 0, \"ticks\": \"\"}}, \"type\": \"scatterpolar\"}], \"scatterpolargl\": [{\"marker\": {\"colorbar\": {\"outlinewidth\": 0, \"ticks\": \"\"}}, \"type\": \"scatterpolargl\"}], \"scatterternary\": [{\"marker\": {\"colorbar\": {\"outlinewidth\": 0, \"ticks\": \"\"}}, \"type\": \"scatterternary\"}], \"surface\": [{\"colorbar\": {\"outlinewidth\": 0, \"ticks\": \"\"}, \"colorscale\": [[0.0, \"#0d0887\"], [0.1111111111111111, \"#46039f\"], [0.2222222222222222, \"#7201a8\"], [0.3333333333333333, \"#9c179e\"], [0.4444444444444444, \"#bd3786\"], [0.5555555555555556, \"#d8576b\"], [0.6666666666666666, \"#ed7953\"], [0.7777777777777778, \"#fb9f3a\"], [0.8888888888888888, \"#fdca26\"], [1.0, \"#f0f921\"]], \"type\": \"surface\"}], \"table\": [{\"cells\": {\"fill\": {\"color\": \"#EBF0F8\"}, \"line\": {\"color\": \"white\"}}, \"header\": {\"fill\": {\"color\": \"#C8D4E3\"}, \"line\": {\"color\": \"white\"}}, \"type\": \"table\"}]}, \"layout\": {\"annotationdefaults\": {\"arrowcolor\": \"#2a3f5f\", \"arrowhead\": 0, \"arrowwidth\": 1}, \"autotypenumbers\": \"strict\", \"coloraxis\": {\"colorbar\": {\"outlinewidth\": 0, \"ticks\": \"\"}}, \"colorscale\": {\"diverging\": [[0, \"#8e0152\"], [0.1, \"#c51b7d\"], [0.2, \"#de77ae\"], [0.3, \"#f1b6da\"], [0.4, \"#fde0ef\"], [0.5, \"#f7f7f7\"], [0.6, \"#e6f5d0\"], [0.7, \"#b8e186\"], [0.8, \"#7fbc41\"], [0.9, \"#4d9221\"], [1, \"#276419\"]], \"sequential\": [[0.0, \"#0d0887\"], [0.1111111111111111, \"#46039f\"], [0.2222222222222222, \"#7201a8\"], [0.3333333333333333, \"#9c179e\"], [0.4444444444444444, \"#bd3786\"], [0.5555555555555556, \"#d8576b\"], [0.6666666666666666, \"#ed7953\"], [0.7777777777777778, \"#fb9f3a\"], [0.8888888888888888, \"#fdca26\"], [1.0, \"#f0f921\"]], \"sequentialminus\": [[0.0, \"#0d0887\"], [0.1111111111111111, \"#46039f\"], [0.2222222222222222, \"#7201a8\"], [0.3333333333333333, \"#9c179e\"], [0.4444444444444444, \"#bd3786\"], [0.5555555555555556, \"#d8576b\"], [0.6666666666666666, \"#ed7953\"], [0.7777777777777778, \"#fb9f3a\"], [0.8888888888888888, \"#fdca26\"], [1.0, \"#f0f921\"]]}, \"colorway\": [\"#636efa\", \"#EF553B\", \"#00cc96\", \"#ab63fa\", \"#FFA15A\", \"#19d3f3\", \"#FF6692\", \"#B6E880\", \"#FF97FF\", \"#FECB52\"], \"font\": {\"color\": \"#2a3f5f\"}, \"geo\": {\"bgcolor\": \"white\", \"lakecolor\": \"white\", \"landcolor\": \"#E5ECF6\", \"showlakes\": true, \"showland\": true, \"subunitcolor\": \"white\"}, \"hoverlabel\": {\"align\": \"left\"}, \"hovermode\": \"closest\", \"mapbox\": {\"style\": \"light\"}, \"paper_bgcolor\": \"white\", \"plot_bgcolor\": \"#E5ECF6\", \"polar\": {\"angularaxis\": {\"gridcolor\": \"white\", \"linecolor\": \"white\", \"ticks\": \"\"}, \"bgcolor\": \"#E5ECF6\", \"radialaxis\": {\"gridcolor\": \"white\", \"linecolor\": \"white\", \"ticks\": \"\"}}, \"scene\": {\"xaxis\": {\"backgroundcolor\": \"#E5ECF6\", \"gridcolor\": \"white\", \"gridwidth\": 2, \"linecolor\": \"white\", \"showbackground\": true, \"ticks\": \"\", \"zerolinecolor\": \"white\"}, \"yaxis\": {\"backgroundcolor\": \"#E5ECF6\", \"gridcolor\": \"white\", \"gridwidth\": 2, \"linecolor\": \"white\", \"showbackground\": true, \"ticks\": \"\", \"zerolinecolor\": \"white\"}, \"zaxis\": {\"backgroundcolor\": \"#E5ECF6\", \"gridcolor\": \"white\", \"gridwidth\": 2, \"linecolor\": \"white\", \"showbackground\": true, \"ticks\": \"\", \"zerolinecolor\": \"white\"}}, \"shapedefaults\": {\"line\": {\"color\": \"#2a3f5f\"}}, \"ternary\": {\"aaxis\": {\"gridcolor\": \"white\", \"linecolor\": \"white\", \"ticks\": \"\"}, \"baxis\": {\"gridcolor\": \"white\", \"linecolor\": \"white\", \"ticks\": \"\"}, \"bgcolor\": \"#E5ECF6\", \"caxis\": {\"gridcolor\": \"white\", \"linecolor\": \"white\", \"ticks\": \"\"}}, \"title\": {\"x\": 0.05}, \"xaxis\": {\"automargin\": true, \"gridcolor\": \"white\", \"linecolor\": \"white\", \"ticks\": \"\", \"title\": {\"standoff\": 15}, \"zerolinecolor\": \"white\", \"zerolinewidth\": 2}, \"yaxis\": {\"automargin\": true, \"gridcolor\": \"white\", \"linecolor\": \"white\", \"ticks\": \"\", \"title\": {\"standoff\": 15}, \"zerolinecolor\": \"white\", \"zerolinewidth\": 2}}}},                        {\"responsive\": true}                    ).then(function(){\n",
       "                            \n",
       "var gd = document.getElementById('c1e2f91b-3553-4d3e-a4d6-557dfe4089eb');\n",
       "var x = new MutationObserver(function (mutations, observer) {{\n",
       "        var display = window.getComputedStyle(gd).display;\n",
       "        if (!display || display === 'none') {{\n",
       "            console.log([gd, 'removed!']);\n",
       "            Plotly.purge(gd);\n",
       "            observer.disconnect();\n",
       "        }}\n",
       "}});\n",
       "\n",
       "// Listen for the removal of the full notebook cells\n",
       "var notebookContainer = gd.closest('#notebook-container');\n",
       "if (notebookContainer) {{\n",
       "    x.observe(notebookContainer, {childList: true});\n",
       "}}\n",
       "\n",
       "// Listen for the clearing of the current output cell\n",
       "var outputEl = gd.closest('.output');\n",
       "if (outputEl) {{\n",
       "    x.observe(outputEl, {childList: true});\n",
       "}}\n",
       "\n",
       "                        })                };                });            </script>        </div>"
      ]
     },
     "metadata": {},
     "output_type": "display_data"
    }
   ],
   "source": [
    "fig = xp.choropleth_mapbox(data, geojson=map_data, locations='STATE', color='UNEMPLOYMENT',\n",
    "                           color_continuous_scale=\"rainbow\",\n",
    "                           mapbox_style=\"carto-positron\",\n",
    "                           zoom=3, center = coord,\n",
    "                           opacity=0.5,\n",
    "                           labels={'unmeployed':'State of Population'}\n",
    "                          )\n",
    "fig.update_layout(margin={\"t\":0,\"b\":0,\"l\":0,\"r\":0})\n",
    "fig.show()"
   ]
  },
  {
   "cell_type": "code",
   "execution_count": 20,
   "metadata": {},
   "outputs": [
    {
     "data": {
      "application/vnd.plotly.v1+json": {
       "config": {
        "plotlyServerURL": "https://plot.ly"
       },
       "data": [
        {
         "coloraxis": "coloraxis",
         "geojson": {
          "features": [
           {
            "geometry": {
             "coordinates": {},
             "type": "Point"
            },
            "properties": {
             "STATE": "ABIA",
             "UNDEREMPLOYMENT": 16.4,
             "UNEMPLOYMENT": 31.6
            },
            "type": "Feature"
           },
           {
            "geometry": {
             "coordinates": {},
             "type": "Point"
            },
            "properties": {
             "STATE": "ADAMAWA",
             "UNDEREMPLOYMENT": 24.8,
             "UNEMPLOYMENT": 20.8
            },
            "type": "Feature"
           },
           {
            "geometry": {
             "coordinates": {},
             "type": "Point"
            },
            "properties": {
             "STATE": "AKWA IBOM",
             "UNDEREMPLOYMENT": 20.1,
             "UNEMPLOYMENT": 37.7
            },
            "type": "Feature"
           },
           {
            "geometry": {
             "coordinates": {},
             "type": "Point"
            },
            "properties": {
             "STATE": "ANAMBRA",
             "UNDEREMPLOYMENT": 17.6,
             "UNEMPLOYMENT": 17.5
            },
            "type": "Feature"
           },
           {
            "geometry": {
             "coordinates": {},
             "type": "Point"
            },
            "properties": {
             "STATE": "BAUCHI",
             "UNDEREMPLOYMENT": 23.6,
             "UNEMPLOYMENT": 23.5
            },
            "type": "Feature"
           },
           {
            "geometry": {
             "coordinates": {},
             "type": "Point"
            },
            "properties": {
             "STATE": "BAYELSA",
             "UNDEREMPLOYMENT": 17.2,
             "UNEMPLOYMENT": 32.6
            },
            "type": "Feature"
           },
           {
            "geometry": {
             "coordinates": {},
             "type": "Point"
            },
            "properties": {
             "STATE": "BENUE",
             "UNDEREMPLOYMENT": 25,
             "UNEMPLOYMENT": 20.1
            },
            "type": "Feature"
           },
           {
            "geometry": {
             "coordinates": {},
             "type": "Point"
            },
            "properties": {
             "STATE": "BORNO",
             "UNDEREMPLOYMENT": 25.5,
             "UNEMPLOYMENT": 31.4
            },
            "type": "Feature"
           },
           {
            "geometry": {
             "coordinates": {},
             "type": "Point"
            },
            "properties": {
             "STATE": "CROSS RIVER",
             "UNDEREMPLOYMENT": 19.9,
             "UNEMPLOYMENT": 30.6
            },
            "type": "Feature"
           },
           {
            "geometry": {
             "coordinates": {},
             "type": "Point"
            },
            "properties": {
             "STATE": "DELTA",
             "UNDEREMPLOYMENT": 17.9,
             "UNEMPLOYMENT": 25.4
            },
            "type": "Feature"
           },
           {
            "geometry": {
             "coordinates": {},
             "type": "Point"
            },
            "properties": {
             "STATE": "EBONYI",
             "UNDEREMPLOYMENT": 19.7,
             "UNEMPLOYMENT": 21.1
            },
            "type": "Feature"
           },
           {
            "geometry": {
             "coordinates": {},
             "type": "Point"
            },
            "properties": {
             "STATE": "EDO",
             "UNDEREMPLOYMENT": 18.4,
             "UNEMPLOYMENT": 25.1
            },
            "type": "Feature"
           },
           {
            "geometry": {
             "coordinates": {},
             "type": "Point"
            },
            "properties": {
             "STATE": "EKITI",
             "UNDEREMPLOYMENT": 14,
             "UNEMPLOYMENT": 20.2
            },
            "type": "Feature"
           },
           {
            "geometry": {
             "coordinates": {},
             "type": "Point"
            },
            "properties": {
             "STATE": "ENUGU",
             "UNDEREMPLOYMENT": 17.7,
             "UNEMPLOYMENT": 18.7
            },
            "type": "Feature"
           },
           {
            "geometry": {
             "coordinates": {},
             "type": "Point"
            },
            "properties": {
             "STATE": "FCT",
             "UNDEREMPLOYMENT": 16.1,
             "UNEMPLOYMENT": 24.4
            },
            "type": "Feature"
           },
           {
            "geometry": {
             "coordinates": {},
             "type": "Point"
            },
            "properties": {
             "STATE": "GOMBE",
             "UNDEREMPLOYMENT": 23.7,
             "UNEMPLOYMENT": 27
            },
            "type": "Feature"
           },
           {
            "geometry": {
             "coordinates": {},
             "type": "Point"
            },
            "properties": {
             "STATE": "IMO",
             "UNDEREMPLOYMENT": 15.1,
             "UNEMPLOYMENT": 28.2
            },
            "type": "Feature"
           },
           {
            "geometry": {
             "coordinates": {},
             "type": "Point"
            },
            "properties": {
             "STATE": "JIGAWA",
             "UNDEREMPLOYMENT": 38.1,
             "UNEMPLOYMENT": 26.5
            },
            "type": "Feature"
           },
           {
            "geometry": {
             "coordinates": {},
             "type": "Point"
            },
            "properties": {
             "STATE": "KADUNA",
             "UNDEREMPLOYMENT": 31,
             "UNEMPLOYMENT": 26.8
            },
            "type": "Feature"
           },
           {
            "geometry": {
             "coordinates": {},
             "type": "Point"
            },
            "properties": {
             "STATE": "KANO",
             "UNDEREMPLOYMENT": 24.3,
             "UNEMPLOYMENT": 31.3
            },
            "type": "Feature"
           },
           {
            "geometry": {
             "coordinates": {},
             "type": "Point"
            },
            "properties": {
             "STATE": "KASTINA",
             "UNDEREMPLOYMENT": 39.5,
             "UNEMPLOYMENT": 14.3
            },
            "type": "Feature"
           },
           {
            "geometry": {
             "coordinates": {},
             "type": "Point"
            },
            "properties": {
             "STATE": "KEBBI",
             "UNDEREMPLOYMENT": 16.9,
             "UNEMPLOYMENT": 20.1
            },
            "type": "Feature"
           },
           {
            "geometry": {
             "coordinates": {},
             "type": "Point"
            },
            "properties": {
             "STATE": "KOGI",
             "UNDEREMPLOYMENT": 24.8,
             "UNEMPLOYMENT": 19.7
            },
            "type": "Feature"
           },
           {
            "geometry": {
             "coordinates": {},
             "type": "Point"
            },
            "properties": {
             "STATE": "KWARA",
             "UNDEREMPLOYMENT": 21.4,
             "UNEMPLOYMENT": 21.1
            },
            "type": "Feature"
           },
           {
            "geometry": {
             "coordinates": {},
             "type": "Point"
            },
            "properties": {
             "STATE": "LAGOS",
             "UNDEREMPLOYMENT": 12.4,
             "UNEMPLOYMENT": 14.6
            },
            "type": "Feature"
           },
           {
            "geometry": {
             "coordinates": {},
             "type": "Point"
            },
            "properties": {
             "STATE": "NASARAWA",
             "UNDEREMPLOYMENT": 24.3,
             "UNEMPLOYMENT": 27.4
            },
            "type": "Feature"
           },
           {
            "geometry": {
             "coordinates": {},
             "type": "Point"
            },
            "properties": {
             "STATE": "NIGER",
             "UNDEREMPLOYMENT": 26.9,
             "UNEMPLOYMENT": 20.9
            },
            "type": "Feature"
           },
           {
            "geometry": {
             "coordinates": {},
             "type": "Point"
            },
            "properties": {
             "STATE": "OGUN",
             "UNDEREMPLOYMENT": 10.9,
             "UNEMPLOYMENT": 16.4
            },
            "type": "Feature"
           },
           {
            "geometry": {
             "coordinates": {},
             "type": "Point"
            },
            "properties": {
             "STATE": "ONDO",
             "UNDEREMPLOYMENT": 17.6,
             "UNEMPLOYMENT": 14.2
            },
            "type": "Feature"
           },
           {
            "geometry": {
             "coordinates": {},
             "type": "Point"
            },
            "properties": {
             "STATE": "OSUN",
             "UNDEREMPLOYMENT": 14.6,
             "UNEMPLOYMENT": 10.1
            },
            "type": "Feature"
           },
           {
            "geometry": {
             "coordinates": {},
             "type": "Point"
            },
            "properties": {
             "STATE": "OYO",
             "UNDEREMPLOYMENT": 14.3,
             "UNEMPLOYMENT": 10.3
            },
            "type": "Feature"
           },
           {
            "geometry": {
             "coordinates": {},
             "type": "Point"
            },
            "properties": {
             "STATE": "PLATEAU",
             "UNDEREMPLOYMENT": 21.8,
             "UNEMPLOYMENT": 29.8
            },
            "type": "Feature"
           },
           {
            "geometry": {
             "coordinates": {},
             "type": "Point"
            },
            "properties": {
             "STATE": "RIVERS",
             "UNDEREMPLOYMENT": 21.7,
             "UNEMPLOYMENT": 36.4
            },
            "type": "Feature"
           },
           {
            "geometry": {
             "coordinates": {},
             "type": "Point"
            },
            "properties": {
             "STATE": "SOKOTO",
             "UNDEREMPLOYMENT": 26.6,
             "UNEMPLOYMENT": 26
            },
            "type": "Feature"
           },
           {
            "geometry": {
             "coordinates": {},
             "type": "Point"
            },
            "properties": {
             "STATE": "TARABA",
             "UNDEREMPLOYMENT": 9,
             "UNEMPLOYMENT": 19
            },
            "type": "Feature"
           },
           {
            "geometry": {
             "coordinates": {},
             "type": "Point"
            },
            "properties": {
             "STATE": "YOBE",
             "UNDEREMPLOYMENT": 30,
             "UNEMPLOYMENT": 29
            },
            "type": "Feature"
           },
           {
            "geometry": {
             "coordinates": {},
             "type": "Point"
            },
            "properties": {
             "STATE": "ZAMFARA",
             "UNDEREMPLOYMENT": 23,
             "UNEMPLOYMENT": 18
            },
            "type": "Feature"
           }
          ],
          "type": "FeatureCollection"
         },
         "hovertemplate": "STATE=%{location}<br>UNDEREMPLOYMENT=%{z}<extra></extra>",
         "locations": [
          "ABIA",
          "ADAMAWA",
          "AKWA IBOM",
          "ANAMBRA",
          "BAUCHI",
          "BAYELSA",
          "BENUE",
          "BORNO",
          "CROSS RIVER",
          "DELTA",
          "EBONYI",
          "EDO",
          "EKITI",
          "ENUGU",
          "FCT",
          "GOMBE",
          "IMO",
          "JIGAWA",
          "KADUNA",
          "KANO",
          "KASTINA",
          "KEBBI",
          "KOGI",
          "KWARA",
          "LAGOS",
          "NASARAWA",
          "NIGER",
          "OGUN",
          "ONDO",
          "OSUN",
          "OYO",
          "PLATEAU",
          "RIVERS",
          "SOKOTO",
          "TARABA",
          "YOBE",
          "ZAMFARA"
         ],
         "marker": {
          "opacity": 0.5
         },
         "name": "",
         "subplot": "mapbox",
         "type": "choroplethmapbox",
         "z": [
          16.4,
          24.8,
          20.1,
          17.6,
          23.6,
          17.2,
          25,
          25.5,
          19.9,
          17.9,
          19.7,
          18.4,
          14,
          17.7,
          16.1,
          23.7,
          15.1,
          38.1,
          31,
          24.3,
          39.5,
          16.9,
          24.8,
          21.4,
          12.4,
          24.3,
          26.9,
          10.9,
          17.6,
          14.6,
          14.3,
          21.8,
          21.7,
          26.6,
          9,
          30,
          23
         ]
        }
       ],
       "layout": {
        "coloraxis": {
         "colorbar": {
          "title": {
           "text": "UNDEREMPLOYMENT"
          }
         },
         "colorscale": [
          [
           0,
           "rgb(150,0,90)"
          ],
          [
           0.125,
           "rgb(0,0,200)"
          ],
          [
           0.25,
           "rgb(0,25,255)"
          ],
          [
           0.375,
           "rgb(0,152,255)"
          ],
          [
           0.5,
           "rgb(44,255,150)"
          ],
          [
           0.625,
           "rgb(151,255,0)"
          ],
          [
           0.75,
           "rgb(255,234,0)"
          ],
          [
           0.875,
           "rgb(255,111,0)"
          ],
          [
           1,
           "rgb(255,0,0)"
          ]
         ]
        },
        "legend": {
         "tracegroupgap": 0
        },
        "mapbox": {
         "center": {
          "lat": 9.081875,
          "lon": 8.85337
         },
         "domain": {
          "x": [
           0,
           1
          ],
          "y": [
           0,
           1
          ]
         },
         "style": "carto-positron",
         "zoom": 3
        },
        "margin": {
         "b": 0,
         "l": 0,
         "r": 0,
         "t": 0
        },
        "template": {
         "data": {
          "bar": [
           {
            "error_x": {
             "color": "#2a3f5f"
            },
            "error_y": {
             "color": "#2a3f5f"
            },
            "marker": {
             "line": {
              "color": "#E5ECF6",
              "width": 0.5
             }
            },
            "type": "bar"
           }
          ],
          "barpolar": [
           {
            "marker": {
             "line": {
              "color": "#E5ECF6",
              "width": 0.5
             }
            },
            "type": "barpolar"
           }
          ],
          "carpet": [
           {
            "aaxis": {
             "endlinecolor": "#2a3f5f",
             "gridcolor": "white",
             "linecolor": "white",
             "minorgridcolor": "white",
             "startlinecolor": "#2a3f5f"
            },
            "baxis": {
             "endlinecolor": "#2a3f5f",
             "gridcolor": "white",
             "linecolor": "white",
             "minorgridcolor": "white",
             "startlinecolor": "#2a3f5f"
            },
            "type": "carpet"
           }
          ],
          "choropleth": [
           {
            "colorbar": {
             "outlinewidth": 0,
             "ticks": ""
            },
            "type": "choropleth"
           }
          ],
          "contour": [
           {
            "colorbar": {
             "outlinewidth": 0,
             "ticks": ""
            },
            "colorscale": [
             [
              0,
              "#0d0887"
             ],
             [
              0.1111111111111111,
              "#46039f"
             ],
             [
              0.2222222222222222,
              "#7201a8"
             ],
             [
              0.3333333333333333,
              "#9c179e"
             ],
             [
              0.4444444444444444,
              "#bd3786"
             ],
             [
              0.5555555555555556,
              "#d8576b"
             ],
             [
              0.6666666666666666,
              "#ed7953"
             ],
             [
              0.7777777777777778,
              "#fb9f3a"
             ],
             [
              0.8888888888888888,
              "#fdca26"
             ],
             [
              1,
              "#f0f921"
             ]
            ],
            "type": "contour"
           }
          ],
          "contourcarpet": [
           {
            "colorbar": {
             "outlinewidth": 0,
             "ticks": ""
            },
            "type": "contourcarpet"
           }
          ],
          "heatmap": [
           {
            "colorbar": {
             "outlinewidth": 0,
             "ticks": ""
            },
            "colorscale": [
             [
              0,
              "#0d0887"
             ],
             [
              0.1111111111111111,
              "#46039f"
             ],
             [
              0.2222222222222222,
              "#7201a8"
             ],
             [
              0.3333333333333333,
              "#9c179e"
             ],
             [
              0.4444444444444444,
              "#bd3786"
             ],
             [
              0.5555555555555556,
              "#d8576b"
             ],
             [
              0.6666666666666666,
              "#ed7953"
             ],
             [
              0.7777777777777778,
              "#fb9f3a"
             ],
             [
              0.8888888888888888,
              "#fdca26"
             ],
             [
              1,
              "#f0f921"
             ]
            ],
            "type": "heatmap"
           }
          ],
          "heatmapgl": [
           {
            "colorbar": {
             "outlinewidth": 0,
             "ticks": ""
            },
            "colorscale": [
             [
              0,
              "#0d0887"
             ],
             [
              0.1111111111111111,
              "#46039f"
             ],
             [
              0.2222222222222222,
              "#7201a8"
             ],
             [
              0.3333333333333333,
              "#9c179e"
             ],
             [
              0.4444444444444444,
              "#bd3786"
             ],
             [
              0.5555555555555556,
              "#d8576b"
             ],
             [
              0.6666666666666666,
              "#ed7953"
             ],
             [
              0.7777777777777778,
              "#fb9f3a"
             ],
             [
              0.8888888888888888,
              "#fdca26"
             ],
             [
              1,
              "#f0f921"
             ]
            ],
            "type": "heatmapgl"
           }
          ],
          "histogram": [
           {
            "marker": {
             "colorbar": {
              "outlinewidth": 0,
              "ticks": ""
             }
            },
            "type": "histogram"
           }
          ],
          "histogram2d": [
           {
            "colorbar": {
             "outlinewidth": 0,
             "ticks": ""
            },
            "colorscale": [
             [
              0,
              "#0d0887"
             ],
             [
              0.1111111111111111,
              "#46039f"
             ],
             [
              0.2222222222222222,
              "#7201a8"
             ],
             [
              0.3333333333333333,
              "#9c179e"
             ],
             [
              0.4444444444444444,
              "#bd3786"
             ],
             [
              0.5555555555555556,
              "#d8576b"
             ],
             [
              0.6666666666666666,
              "#ed7953"
             ],
             [
              0.7777777777777778,
              "#fb9f3a"
             ],
             [
              0.8888888888888888,
              "#fdca26"
             ],
             [
              1,
              "#f0f921"
             ]
            ],
            "type": "histogram2d"
           }
          ],
          "histogram2dcontour": [
           {
            "colorbar": {
             "outlinewidth": 0,
             "ticks": ""
            },
            "colorscale": [
             [
              0,
              "#0d0887"
             ],
             [
              0.1111111111111111,
              "#46039f"
             ],
             [
              0.2222222222222222,
              "#7201a8"
             ],
             [
              0.3333333333333333,
              "#9c179e"
             ],
             [
              0.4444444444444444,
              "#bd3786"
             ],
             [
              0.5555555555555556,
              "#d8576b"
             ],
             [
              0.6666666666666666,
              "#ed7953"
             ],
             [
              0.7777777777777778,
              "#fb9f3a"
             ],
             [
              0.8888888888888888,
              "#fdca26"
             ],
             [
              1,
              "#f0f921"
             ]
            ],
            "type": "histogram2dcontour"
           }
          ],
          "mesh3d": [
           {
            "colorbar": {
             "outlinewidth": 0,
             "ticks": ""
            },
            "type": "mesh3d"
           }
          ],
          "parcoords": [
           {
            "line": {
             "colorbar": {
              "outlinewidth": 0,
              "ticks": ""
             }
            },
            "type": "parcoords"
           }
          ],
          "pie": [
           {
            "automargin": true,
            "type": "pie"
           }
          ],
          "scatter": [
           {
            "marker": {
             "colorbar": {
              "outlinewidth": 0,
              "ticks": ""
             }
            },
            "type": "scatter"
           }
          ],
          "scatter3d": [
           {
            "line": {
             "colorbar": {
              "outlinewidth": 0,
              "ticks": ""
             }
            },
            "marker": {
             "colorbar": {
              "outlinewidth": 0,
              "ticks": ""
             }
            },
            "type": "scatter3d"
           }
          ],
          "scattercarpet": [
           {
            "marker": {
             "colorbar": {
              "outlinewidth": 0,
              "ticks": ""
             }
            },
            "type": "scattercarpet"
           }
          ],
          "scattergeo": [
           {
            "marker": {
             "colorbar": {
              "outlinewidth": 0,
              "ticks": ""
             }
            },
            "type": "scattergeo"
           }
          ],
          "scattergl": [
           {
            "marker": {
             "colorbar": {
              "outlinewidth": 0,
              "ticks": ""
             }
            },
            "type": "scattergl"
           }
          ],
          "scattermapbox": [
           {
            "marker": {
             "colorbar": {
              "outlinewidth": 0,
              "ticks": ""
             }
            },
            "type": "scattermapbox"
           }
          ],
          "scatterpolar": [
           {
            "marker": {
             "colorbar": {
              "outlinewidth": 0,
              "ticks": ""
             }
            },
            "type": "scatterpolar"
           }
          ],
          "scatterpolargl": [
           {
            "marker": {
             "colorbar": {
              "outlinewidth": 0,
              "ticks": ""
             }
            },
            "type": "scatterpolargl"
           }
          ],
          "scatterternary": [
           {
            "marker": {
             "colorbar": {
              "outlinewidth": 0,
              "ticks": ""
             }
            },
            "type": "scatterternary"
           }
          ],
          "surface": [
           {
            "colorbar": {
             "outlinewidth": 0,
             "ticks": ""
            },
            "colorscale": [
             [
              0,
              "#0d0887"
             ],
             [
              0.1111111111111111,
              "#46039f"
             ],
             [
              0.2222222222222222,
              "#7201a8"
             ],
             [
              0.3333333333333333,
              "#9c179e"
             ],
             [
              0.4444444444444444,
              "#bd3786"
             ],
             [
              0.5555555555555556,
              "#d8576b"
             ],
             [
              0.6666666666666666,
              "#ed7953"
             ],
             [
              0.7777777777777778,
              "#fb9f3a"
             ],
             [
              0.8888888888888888,
              "#fdca26"
             ],
             [
              1,
              "#f0f921"
             ]
            ],
            "type": "surface"
           }
          ],
          "table": [
           {
            "cells": {
             "fill": {
              "color": "#EBF0F8"
             },
             "line": {
              "color": "white"
             }
            },
            "header": {
             "fill": {
              "color": "#C8D4E3"
             },
             "line": {
              "color": "white"
             }
            },
            "type": "table"
           }
          ]
         },
         "layout": {
          "annotationdefaults": {
           "arrowcolor": "#2a3f5f",
           "arrowhead": 0,
           "arrowwidth": 1
          },
          "autotypenumbers": "strict",
          "coloraxis": {
           "colorbar": {
            "outlinewidth": 0,
            "ticks": ""
           }
          },
          "colorscale": {
           "diverging": [
            [
             0,
             "#8e0152"
            ],
            [
             0.1,
             "#c51b7d"
            ],
            [
             0.2,
             "#de77ae"
            ],
            [
             0.3,
             "#f1b6da"
            ],
            [
             0.4,
             "#fde0ef"
            ],
            [
             0.5,
             "#f7f7f7"
            ],
            [
             0.6,
             "#e6f5d0"
            ],
            [
             0.7,
             "#b8e186"
            ],
            [
             0.8,
             "#7fbc41"
            ],
            [
             0.9,
             "#4d9221"
            ],
            [
             1,
             "#276419"
            ]
           ],
           "sequential": [
            [
             0,
             "#0d0887"
            ],
            [
             0.1111111111111111,
             "#46039f"
            ],
            [
             0.2222222222222222,
             "#7201a8"
            ],
            [
             0.3333333333333333,
             "#9c179e"
            ],
            [
             0.4444444444444444,
             "#bd3786"
            ],
            [
             0.5555555555555556,
             "#d8576b"
            ],
            [
             0.6666666666666666,
             "#ed7953"
            ],
            [
             0.7777777777777778,
             "#fb9f3a"
            ],
            [
             0.8888888888888888,
             "#fdca26"
            ],
            [
             1,
             "#f0f921"
            ]
           ],
           "sequentialminus": [
            [
             0,
             "#0d0887"
            ],
            [
             0.1111111111111111,
             "#46039f"
            ],
            [
             0.2222222222222222,
             "#7201a8"
            ],
            [
             0.3333333333333333,
             "#9c179e"
            ],
            [
             0.4444444444444444,
             "#bd3786"
            ],
            [
             0.5555555555555556,
             "#d8576b"
            ],
            [
             0.6666666666666666,
             "#ed7953"
            ],
            [
             0.7777777777777778,
             "#fb9f3a"
            ],
            [
             0.8888888888888888,
             "#fdca26"
            ],
            [
             1,
             "#f0f921"
            ]
           ]
          },
          "colorway": [
           "#636efa",
           "#EF553B",
           "#00cc96",
           "#ab63fa",
           "#FFA15A",
           "#19d3f3",
           "#FF6692",
           "#B6E880",
           "#FF97FF",
           "#FECB52"
          ],
          "font": {
           "color": "#2a3f5f"
          },
          "geo": {
           "bgcolor": "white",
           "lakecolor": "white",
           "landcolor": "#E5ECF6",
           "showlakes": true,
           "showland": true,
           "subunitcolor": "white"
          },
          "hoverlabel": {
           "align": "left"
          },
          "hovermode": "closest",
          "mapbox": {
           "style": "light"
          },
          "paper_bgcolor": "white",
          "plot_bgcolor": "#E5ECF6",
          "polar": {
           "angularaxis": {
            "gridcolor": "white",
            "linecolor": "white",
            "ticks": ""
           },
           "bgcolor": "#E5ECF6",
           "radialaxis": {
            "gridcolor": "white",
            "linecolor": "white",
            "ticks": ""
           }
          },
          "scene": {
           "xaxis": {
            "backgroundcolor": "#E5ECF6",
            "gridcolor": "white",
            "gridwidth": 2,
            "linecolor": "white",
            "showbackground": true,
            "ticks": "",
            "zerolinecolor": "white"
           },
           "yaxis": {
            "backgroundcolor": "#E5ECF6",
            "gridcolor": "white",
            "gridwidth": 2,
            "linecolor": "white",
            "showbackground": true,
            "ticks": "",
            "zerolinecolor": "white"
           },
           "zaxis": {
            "backgroundcolor": "#E5ECF6",
            "gridcolor": "white",
            "gridwidth": 2,
            "linecolor": "white",
            "showbackground": true,
            "ticks": "",
            "zerolinecolor": "white"
           }
          },
          "shapedefaults": {
           "line": {
            "color": "#2a3f5f"
           }
          },
          "ternary": {
           "aaxis": {
            "gridcolor": "white",
            "linecolor": "white",
            "ticks": ""
           },
           "baxis": {
            "gridcolor": "white",
            "linecolor": "white",
            "ticks": ""
           },
           "bgcolor": "#E5ECF6",
           "caxis": {
            "gridcolor": "white",
            "linecolor": "white",
            "ticks": ""
           }
          },
          "title": {
           "x": 0.05
          },
          "xaxis": {
           "automargin": true,
           "gridcolor": "white",
           "linecolor": "white",
           "ticks": "",
           "title": {
            "standoff": 15
           },
           "zerolinecolor": "white",
           "zerolinewidth": 2
          },
          "yaxis": {
           "automargin": true,
           "gridcolor": "white",
           "linecolor": "white",
           "ticks": "",
           "title": {
            "standoff": 15
           },
           "zerolinecolor": "white",
           "zerolinewidth": 2
          }
         }
        }
       }
      },
      "text/html": [
       "<div>                            <div id=\"10bf681d-be81-41db-a465-bbf720eb21f7\" class=\"plotly-graph-div\" style=\"height:525px; width:100%;\"></div>            <script type=\"text/javascript\">                require([\"plotly\"], function(Plotly) {                    window.PLOTLYENV=window.PLOTLYENV || {};                                    if (document.getElementById(\"10bf681d-be81-41db-a465-bbf720eb21f7\")) {                    Plotly.newPlot(                        \"10bf681d-be81-41db-a465-bbf720eb21f7\",                        [{\"coloraxis\": \"coloraxis\", \"geojson\": {\"features\": [{\"geometry\": {\"coordinates\": {}, \"type\": \"Point\"}, \"properties\": {\"STATE\": \"ABIA\", \"UNDEREMPLOYMENT\": 16.4, \"UNEMPLOYMENT\": 31.6}, \"type\": \"Feature\"}, {\"geometry\": {\"coordinates\": {}, \"type\": \"Point\"}, \"properties\": {\"STATE\": \"ADAMAWA\", \"UNDEREMPLOYMENT\": 24.8, \"UNEMPLOYMENT\": 20.8}, \"type\": \"Feature\"}, {\"geometry\": {\"coordinates\": {}, \"type\": \"Point\"}, \"properties\": {\"STATE\": \"AKWA IBOM\", \"UNDEREMPLOYMENT\": 20.1, \"UNEMPLOYMENT\": 37.7}, \"type\": \"Feature\"}, {\"geometry\": {\"coordinates\": {}, \"type\": \"Point\"}, \"properties\": {\"STATE\": \"ANAMBRA\", \"UNDEREMPLOYMENT\": 17.6, \"UNEMPLOYMENT\": 17.5}, \"type\": \"Feature\"}, {\"geometry\": {\"coordinates\": {}, \"type\": \"Point\"}, \"properties\": {\"STATE\": \"BAUCHI\", \"UNDEREMPLOYMENT\": 23.6, \"UNEMPLOYMENT\": 23.5}, \"type\": \"Feature\"}, {\"geometry\": {\"coordinates\": {}, \"type\": \"Point\"}, \"properties\": {\"STATE\": \"BAYELSA\", \"UNDEREMPLOYMENT\": 17.2, \"UNEMPLOYMENT\": 32.6}, \"type\": \"Feature\"}, {\"geometry\": {\"coordinates\": {}, \"type\": \"Point\"}, \"properties\": {\"STATE\": \"BENUE\", \"UNDEREMPLOYMENT\": 25, \"UNEMPLOYMENT\": 20.1}, \"type\": \"Feature\"}, {\"geometry\": {\"coordinates\": {}, \"type\": \"Point\"}, \"properties\": {\"STATE\": \"BORNO\", \"UNDEREMPLOYMENT\": 25.5, \"UNEMPLOYMENT\": 31.4}, \"type\": \"Feature\"}, {\"geometry\": {\"coordinates\": {}, \"type\": \"Point\"}, \"properties\": {\"STATE\": \"CROSS RIVER\", \"UNDEREMPLOYMENT\": 19.9, \"UNEMPLOYMENT\": 30.6}, \"type\": \"Feature\"}, {\"geometry\": {\"coordinates\": {}, \"type\": \"Point\"}, \"properties\": {\"STATE\": \"DELTA\", \"UNDEREMPLOYMENT\": 17.9, \"UNEMPLOYMENT\": 25.4}, \"type\": \"Feature\"}, {\"geometry\": {\"coordinates\": {}, \"type\": \"Point\"}, \"properties\": {\"STATE\": \"EBONYI\", \"UNDEREMPLOYMENT\": 19.7, \"UNEMPLOYMENT\": 21.1}, \"type\": \"Feature\"}, {\"geometry\": {\"coordinates\": {}, \"type\": \"Point\"}, \"properties\": {\"STATE\": \"EDO\", \"UNDEREMPLOYMENT\": 18.4, \"UNEMPLOYMENT\": 25.1}, \"type\": \"Feature\"}, {\"geometry\": {\"coordinates\": {}, \"type\": \"Point\"}, \"properties\": {\"STATE\": \"EKITI\", \"UNDEREMPLOYMENT\": 14, \"UNEMPLOYMENT\": 20.2}, \"type\": \"Feature\"}, {\"geometry\": {\"coordinates\": {}, \"type\": \"Point\"}, \"properties\": {\"STATE\": \"ENUGU\", \"UNDEREMPLOYMENT\": 17.7, \"UNEMPLOYMENT\": 18.7}, \"type\": \"Feature\"}, {\"geometry\": {\"coordinates\": {}, \"type\": \"Point\"}, \"properties\": {\"STATE\": \"FCT\", \"UNDEREMPLOYMENT\": 16.1, \"UNEMPLOYMENT\": 24.4}, \"type\": \"Feature\"}, {\"geometry\": {\"coordinates\": {}, \"type\": \"Point\"}, \"properties\": {\"STATE\": \"GOMBE\", \"UNDEREMPLOYMENT\": 23.7, \"UNEMPLOYMENT\": 27}, \"type\": \"Feature\"}, {\"geometry\": {\"coordinates\": {}, \"type\": \"Point\"}, \"properties\": {\"STATE\": \"IMO\", \"UNDEREMPLOYMENT\": 15.1, \"UNEMPLOYMENT\": 28.2}, \"type\": \"Feature\"}, {\"geometry\": {\"coordinates\": {}, \"type\": \"Point\"}, \"properties\": {\"STATE\": \"JIGAWA\", \"UNDEREMPLOYMENT\": 38.1, \"UNEMPLOYMENT\": 26.5}, \"type\": \"Feature\"}, {\"geometry\": {\"coordinates\": {}, \"type\": \"Point\"}, \"properties\": {\"STATE\": \"KADUNA\", \"UNDEREMPLOYMENT\": 31, \"UNEMPLOYMENT\": 26.8}, \"type\": \"Feature\"}, {\"geometry\": {\"coordinates\": {}, \"type\": \"Point\"}, \"properties\": {\"STATE\": \"KANO\", \"UNDEREMPLOYMENT\": 24.3, \"UNEMPLOYMENT\": 31.3}, \"type\": \"Feature\"}, {\"geometry\": {\"coordinates\": {}, \"type\": \"Point\"}, \"properties\": {\"STATE\": \"KASTINA\", \"UNDEREMPLOYMENT\": 39.5, \"UNEMPLOYMENT\": 14.3}, \"type\": \"Feature\"}, {\"geometry\": {\"coordinates\": {}, \"type\": \"Point\"}, \"properties\": {\"STATE\": \"KEBBI\", \"UNDEREMPLOYMENT\": 16.9, \"UNEMPLOYMENT\": 20.1}, \"type\": \"Feature\"}, {\"geometry\": {\"coordinates\": {}, \"type\": \"Point\"}, \"properties\": {\"STATE\": \"KOGI\", \"UNDEREMPLOYMENT\": 24.8, \"UNEMPLOYMENT\": 19.7}, \"type\": \"Feature\"}, {\"geometry\": {\"coordinates\": {}, \"type\": \"Point\"}, \"properties\": {\"STATE\": \"KWARA\", \"UNDEREMPLOYMENT\": 21.4, \"UNEMPLOYMENT\": 21.1}, \"type\": \"Feature\"}, {\"geometry\": {\"coordinates\": {}, \"type\": \"Point\"}, \"properties\": {\"STATE\": \"LAGOS\", \"UNDEREMPLOYMENT\": 12.4, \"UNEMPLOYMENT\": 14.6}, \"type\": \"Feature\"}, {\"geometry\": {\"coordinates\": {}, \"type\": \"Point\"}, \"properties\": {\"STATE\": \"NASARAWA\", \"UNDEREMPLOYMENT\": 24.3, \"UNEMPLOYMENT\": 27.4}, \"type\": \"Feature\"}, {\"geometry\": {\"coordinates\": {}, \"type\": \"Point\"}, \"properties\": {\"STATE\": \"NIGER\", \"UNDEREMPLOYMENT\": 26.9, \"UNEMPLOYMENT\": 20.9}, \"type\": \"Feature\"}, {\"geometry\": {\"coordinates\": {}, \"type\": \"Point\"}, \"properties\": {\"STATE\": \"OGUN\", \"UNDEREMPLOYMENT\": 10.9, \"UNEMPLOYMENT\": 16.4}, \"type\": \"Feature\"}, {\"geometry\": {\"coordinates\": {}, \"type\": \"Point\"}, \"properties\": {\"STATE\": \"ONDO\", \"UNDEREMPLOYMENT\": 17.6, \"UNEMPLOYMENT\": 14.2}, \"type\": \"Feature\"}, {\"geometry\": {\"coordinates\": {}, \"type\": \"Point\"}, \"properties\": {\"STATE\": \"OSUN\", \"UNDEREMPLOYMENT\": 14.6, \"UNEMPLOYMENT\": 10.1}, \"type\": \"Feature\"}, {\"geometry\": {\"coordinates\": {}, \"type\": \"Point\"}, \"properties\": {\"STATE\": \"OYO\", \"UNDEREMPLOYMENT\": 14.3, \"UNEMPLOYMENT\": 10.3}, \"type\": \"Feature\"}, {\"geometry\": {\"coordinates\": {}, \"type\": \"Point\"}, \"properties\": {\"STATE\": \"PLATEAU\", \"UNDEREMPLOYMENT\": 21.8, \"UNEMPLOYMENT\": 29.8}, \"type\": \"Feature\"}, {\"geometry\": {\"coordinates\": {}, \"type\": \"Point\"}, \"properties\": {\"STATE\": \"RIVERS\", \"UNDEREMPLOYMENT\": 21.7, \"UNEMPLOYMENT\": 36.4}, \"type\": \"Feature\"}, {\"geometry\": {\"coordinates\": {}, \"type\": \"Point\"}, \"properties\": {\"STATE\": \"SOKOTO\", \"UNDEREMPLOYMENT\": 26.6, \"UNEMPLOYMENT\": 26}, \"type\": \"Feature\"}, {\"geometry\": {\"coordinates\": {}, \"type\": \"Point\"}, \"properties\": {\"STATE\": \"TARABA\", \"UNDEREMPLOYMENT\": 9, \"UNEMPLOYMENT\": 19}, \"type\": \"Feature\"}, {\"geometry\": {\"coordinates\": {}, \"type\": \"Point\"}, \"properties\": {\"STATE\": \"YOBE\", \"UNDEREMPLOYMENT\": 30, \"UNEMPLOYMENT\": 29}, \"type\": \"Feature\"}, {\"geometry\": {\"coordinates\": {}, \"type\": \"Point\"}, \"properties\": {\"STATE\": \"ZAMFARA\", \"UNDEREMPLOYMENT\": 23, \"UNEMPLOYMENT\": 18}, \"type\": \"Feature\"}], \"type\": \"FeatureCollection\"}, \"hovertemplate\": \"STATE=%{location}<br>UNDEREMPLOYMENT=%{z}<extra></extra>\", \"locations\": [\"ABIA\", \"ADAMAWA\", \"AKWA IBOM\", \"ANAMBRA\", \"BAUCHI\", \"BAYELSA\", \"BENUE\", \"BORNO\", \"CROSS RIVER\", \"DELTA\", \"EBONYI\", \"EDO\", \"EKITI\", \"ENUGU\", \"FCT\", \"GOMBE\", \"IMO\", \"JIGAWA\", \"KADUNA\", \"KANO\", \"KASTINA\", \"KEBBI\", \"KOGI\", \"KWARA\", \"LAGOS\", \"NASARAWA\", \"NIGER\", \"OGUN\", \"ONDO\", \"OSUN\", \"OYO\", \"PLATEAU\", \"RIVERS\", \"SOKOTO\", \"TARABA\", \"YOBE\", \"ZAMFARA\"], \"marker\": {\"opacity\": 0.5}, \"name\": \"\", \"subplot\": \"mapbox\", \"type\": \"choroplethmapbox\", \"z\": [16.4, 24.8, 20.1, 17.6, 23.6, 17.2, 25.0, 25.5, 19.9, 17.9, 19.7, 18.4, 14.0, 17.7, 16.1, 23.7, 15.1, 38.1, 31.0, 24.3, 39.5, 16.9, 24.8, 21.4, 12.4, 24.3, 26.9, 10.9, 17.6, 14.6, 14.3, 21.8, 21.7, 26.6, 9.0, 30.0, 23.0]}],                        {\"coloraxis\": {\"colorbar\": {\"title\": {\"text\": \"UNDEREMPLOYMENT\"}}, \"colorscale\": [[0.0, \"rgb(150,0,90)\"], [0.125, \"rgb(0,0,200)\"], [0.25, \"rgb(0,25,255)\"], [0.375, \"rgb(0,152,255)\"], [0.5, \"rgb(44,255,150)\"], [0.625, \"rgb(151,255,0)\"], [0.75, \"rgb(255,234,0)\"], [0.875, \"rgb(255,111,0)\"], [1.0, \"rgb(255,0,0)\"]]}, \"legend\": {\"tracegroupgap\": 0}, \"mapbox\": {\"center\": {\"lat\": 9.081875, \"lon\": 8.85337}, \"domain\": {\"x\": [0.0, 1.0], \"y\": [0.0, 1.0]}, \"style\": \"carto-positron\", \"zoom\": 3}, \"margin\": {\"b\": 0, \"l\": 0, \"r\": 0, \"t\": 0}, \"template\": {\"data\": {\"bar\": [{\"error_x\": {\"color\": \"#2a3f5f\"}, \"error_y\": {\"color\": \"#2a3f5f\"}, \"marker\": {\"line\": {\"color\": \"#E5ECF6\", \"width\": 0.5}}, \"type\": \"bar\"}], \"barpolar\": [{\"marker\": {\"line\": {\"color\": \"#E5ECF6\", \"width\": 0.5}}, \"type\": \"barpolar\"}], \"carpet\": [{\"aaxis\": {\"endlinecolor\": \"#2a3f5f\", \"gridcolor\": \"white\", \"linecolor\": \"white\", \"minorgridcolor\": \"white\", \"startlinecolor\": \"#2a3f5f\"}, \"baxis\": {\"endlinecolor\": \"#2a3f5f\", \"gridcolor\": \"white\", \"linecolor\": \"white\", \"minorgridcolor\": \"white\", \"startlinecolor\": \"#2a3f5f\"}, \"type\": \"carpet\"}], \"choropleth\": [{\"colorbar\": {\"outlinewidth\": 0, \"ticks\": \"\"}, \"type\": \"choropleth\"}], \"contour\": [{\"colorbar\": {\"outlinewidth\": 0, \"ticks\": \"\"}, \"colorscale\": [[0.0, \"#0d0887\"], [0.1111111111111111, \"#46039f\"], [0.2222222222222222, \"#7201a8\"], [0.3333333333333333, \"#9c179e\"], [0.4444444444444444, \"#bd3786\"], [0.5555555555555556, \"#d8576b\"], [0.6666666666666666, \"#ed7953\"], [0.7777777777777778, \"#fb9f3a\"], [0.8888888888888888, \"#fdca26\"], [1.0, \"#f0f921\"]], \"type\": \"contour\"}], \"contourcarpet\": [{\"colorbar\": {\"outlinewidth\": 0, \"ticks\": \"\"}, \"type\": \"contourcarpet\"}], \"heatmap\": [{\"colorbar\": {\"outlinewidth\": 0, \"ticks\": \"\"}, \"colorscale\": [[0.0, \"#0d0887\"], [0.1111111111111111, \"#46039f\"], [0.2222222222222222, \"#7201a8\"], [0.3333333333333333, \"#9c179e\"], [0.4444444444444444, \"#bd3786\"], [0.5555555555555556, \"#d8576b\"], [0.6666666666666666, \"#ed7953\"], [0.7777777777777778, \"#fb9f3a\"], [0.8888888888888888, \"#fdca26\"], [1.0, \"#f0f921\"]], \"type\": \"heatmap\"}], \"heatmapgl\": [{\"colorbar\": {\"outlinewidth\": 0, \"ticks\": \"\"}, \"colorscale\": [[0.0, \"#0d0887\"], [0.1111111111111111, \"#46039f\"], [0.2222222222222222, \"#7201a8\"], [0.3333333333333333, \"#9c179e\"], [0.4444444444444444, \"#bd3786\"], [0.5555555555555556, \"#d8576b\"], [0.6666666666666666, \"#ed7953\"], [0.7777777777777778, \"#fb9f3a\"], [0.8888888888888888, \"#fdca26\"], [1.0, \"#f0f921\"]], \"type\": \"heatmapgl\"}], \"histogram\": [{\"marker\": {\"colorbar\": {\"outlinewidth\": 0, \"ticks\": \"\"}}, \"type\": \"histogram\"}], \"histogram2d\": [{\"colorbar\": {\"outlinewidth\": 0, \"ticks\": \"\"}, \"colorscale\": [[0.0, \"#0d0887\"], [0.1111111111111111, \"#46039f\"], [0.2222222222222222, \"#7201a8\"], [0.3333333333333333, \"#9c179e\"], [0.4444444444444444, \"#bd3786\"], [0.5555555555555556, \"#d8576b\"], [0.6666666666666666, \"#ed7953\"], [0.7777777777777778, \"#fb9f3a\"], [0.8888888888888888, \"#fdca26\"], [1.0, \"#f0f921\"]], \"type\": \"histogram2d\"}], \"histogram2dcontour\": [{\"colorbar\": {\"outlinewidth\": 0, \"ticks\": \"\"}, \"colorscale\": [[0.0, \"#0d0887\"], [0.1111111111111111, \"#46039f\"], [0.2222222222222222, \"#7201a8\"], [0.3333333333333333, \"#9c179e\"], [0.4444444444444444, \"#bd3786\"], [0.5555555555555556, \"#d8576b\"], [0.6666666666666666, \"#ed7953\"], [0.7777777777777778, \"#fb9f3a\"], [0.8888888888888888, \"#fdca26\"], [1.0, \"#f0f921\"]], \"type\": \"histogram2dcontour\"}], \"mesh3d\": [{\"colorbar\": {\"outlinewidth\": 0, \"ticks\": \"\"}, \"type\": \"mesh3d\"}], \"parcoords\": [{\"line\": {\"colorbar\": {\"outlinewidth\": 0, \"ticks\": \"\"}}, \"type\": \"parcoords\"}], \"pie\": [{\"automargin\": true, \"type\": \"pie\"}], \"scatter\": [{\"marker\": {\"colorbar\": {\"outlinewidth\": 0, \"ticks\": \"\"}}, \"type\": \"scatter\"}], \"scatter3d\": [{\"line\": {\"colorbar\": {\"outlinewidth\": 0, \"ticks\": \"\"}}, \"marker\": {\"colorbar\": {\"outlinewidth\": 0, \"ticks\": \"\"}}, \"type\": \"scatter3d\"}], \"scattercarpet\": [{\"marker\": {\"colorbar\": {\"outlinewidth\": 0, \"ticks\": \"\"}}, \"type\": \"scattercarpet\"}], \"scattergeo\": [{\"marker\": {\"colorbar\": {\"outlinewidth\": 0, \"ticks\": \"\"}}, \"type\": \"scattergeo\"}], \"scattergl\": [{\"marker\": {\"colorbar\": {\"outlinewidth\": 0, \"ticks\": \"\"}}, \"type\": \"scattergl\"}], \"scattermapbox\": [{\"marker\": {\"colorbar\": {\"outlinewidth\": 0, \"ticks\": \"\"}}, \"type\": \"scattermapbox\"}], \"scatterpolar\": [{\"marker\": {\"colorbar\": {\"outlinewidth\": 0, \"ticks\": \"\"}}, \"type\": \"scatterpolar\"}], \"scatterpolargl\": [{\"marker\": {\"colorbar\": {\"outlinewidth\": 0, \"ticks\": \"\"}}, \"type\": \"scatterpolargl\"}], \"scatterternary\": [{\"marker\": {\"colorbar\": {\"outlinewidth\": 0, \"ticks\": \"\"}}, \"type\": \"scatterternary\"}], \"surface\": [{\"colorbar\": {\"outlinewidth\": 0, \"ticks\": \"\"}, \"colorscale\": [[0.0, \"#0d0887\"], [0.1111111111111111, \"#46039f\"], [0.2222222222222222, \"#7201a8\"], [0.3333333333333333, \"#9c179e\"], [0.4444444444444444, \"#bd3786\"], [0.5555555555555556, \"#d8576b\"], [0.6666666666666666, \"#ed7953\"], [0.7777777777777778, \"#fb9f3a\"], [0.8888888888888888, \"#fdca26\"], [1.0, \"#f0f921\"]], \"type\": \"surface\"}], \"table\": [{\"cells\": {\"fill\": {\"color\": \"#EBF0F8\"}, \"line\": {\"color\": \"white\"}}, \"header\": {\"fill\": {\"color\": \"#C8D4E3\"}, \"line\": {\"color\": \"white\"}}, \"type\": \"table\"}]}, \"layout\": {\"annotationdefaults\": {\"arrowcolor\": \"#2a3f5f\", \"arrowhead\": 0, \"arrowwidth\": 1}, \"autotypenumbers\": \"strict\", \"coloraxis\": {\"colorbar\": {\"outlinewidth\": 0, \"ticks\": \"\"}}, \"colorscale\": {\"diverging\": [[0, \"#8e0152\"], [0.1, \"#c51b7d\"], [0.2, \"#de77ae\"], [0.3, \"#f1b6da\"], [0.4, \"#fde0ef\"], [0.5, \"#f7f7f7\"], [0.6, \"#e6f5d0\"], [0.7, \"#b8e186\"], [0.8, \"#7fbc41\"], [0.9, \"#4d9221\"], [1, \"#276419\"]], \"sequential\": [[0.0, \"#0d0887\"], [0.1111111111111111, \"#46039f\"], [0.2222222222222222, \"#7201a8\"], [0.3333333333333333, \"#9c179e\"], [0.4444444444444444, \"#bd3786\"], [0.5555555555555556, \"#d8576b\"], [0.6666666666666666, \"#ed7953\"], [0.7777777777777778, \"#fb9f3a\"], [0.8888888888888888, \"#fdca26\"], [1.0, \"#f0f921\"]], \"sequentialminus\": [[0.0, \"#0d0887\"], [0.1111111111111111, \"#46039f\"], [0.2222222222222222, \"#7201a8\"], [0.3333333333333333, \"#9c179e\"], [0.4444444444444444, \"#bd3786\"], [0.5555555555555556, \"#d8576b\"], [0.6666666666666666, \"#ed7953\"], [0.7777777777777778, \"#fb9f3a\"], [0.8888888888888888, \"#fdca26\"], [1.0, \"#f0f921\"]]}, \"colorway\": [\"#636efa\", \"#EF553B\", \"#00cc96\", \"#ab63fa\", \"#FFA15A\", \"#19d3f3\", \"#FF6692\", \"#B6E880\", \"#FF97FF\", \"#FECB52\"], \"font\": {\"color\": \"#2a3f5f\"}, \"geo\": {\"bgcolor\": \"white\", \"lakecolor\": \"white\", \"landcolor\": \"#E5ECF6\", \"showlakes\": true, \"showland\": true, \"subunitcolor\": \"white\"}, \"hoverlabel\": {\"align\": \"left\"}, \"hovermode\": \"closest\", \"mapbox\": {\"style\": \"light\"}, \"paper_bgcolor\": \"white\", \"plot_bgcolor\": \"#E5ECF6\", \"polar\": {\"angularaxis\": {\"gridcolor\": \"white\", \"linecolor\": \"white\", \"ticks\": \"\"}, \"bgcolor\": \"#E5ECF6\", \"radialaxis\": {\"gridcolor\": \"white\", \"linecolor\": \"white\", \"ticks\": \"\"}}, \"scene\": {\"xaxis\": {\"backgroundcolor\": \"#E5ECF6\", \"gridcolor\": \"white\", \"gridwidth\": 2, \"linecolor\": \"white\", \"showbackground\": true, \"ticks\": \"\", \"zerolinecolor\": \"white\"}, \"yaxis\": {\"backgroundcolor\": \"#E5ECF6\", \"gridcolor\": \"white\", \"gridwidth\": 2, \"linecolor\": \"white\", \"showbackground\": true, \"ticks\": \"\", \"zerolinecolor\": \"white\"}, \"zaxis\": {\"backgroundcolor\": \"#E5ECF6\", \"gridcolor\": \"white\", \"gridwidth\": 2, \"linecolor\": \"white\", \"showbackground\": true, \"ticks\": \"\", \"zerolinecolor\": \"white\"}}, \"shapedefaults\": {\"line\": {\"color\": \"#2a3f5f\"}}, \"ternary\": {\"aaxis\": {\"gridcolor\": \"white\", \"linecolor\": \"white\", \"ticks\": \"\"}, \"baxis\": {\"gridcolor\": \"white\", \"linecolor\": \"white\", \"ticks\": \"\"}, \"bgcolor\": \"#E5ECF6\", \"caxis\": {\"gridcolor\": \"white\", \"linecolor\": \"white\", \"ticks\": \"\"}}, \"title\": {\"x\": 0.05}, \"xaxis\": {\"automargin\": true, \"gridcolor\": \"white\", \"linecolor\": \"white\", \"ticks\": \"\", \"title\": {\"standoff\": 15}, \"zerolinecolor\": \"white\", \"zerolinewidth\": 2}, \"yaxis\": {\"automargin\": true, \"gridcolor\": \"white\", \"linecolor\": \"white\", \"ticks\": \"\", \"title\": {\"standoff\": 15}, \"zerolinecolor\": \"white\", \"zerolinewidth\": 2}}}},                        {\"responsive\": true}                    ).then(function(){\n",
       "                            \n",
       "var gd = document.getElementById('10bf681d-be81-41db-a465-bbf720eb21f7');\n",
       "var x = new MutationObserver(function (mutations, observer) {{\n",
       "        var display = window.getComputedStyle(gd).display;\n",
       "        if (!display || display === 'none') {{\n",
       "            console.log([gd, 'removed!']);\n",
       "            Plotly.purge(gd);\n",
       "            observer.disconnect();\n",
       "        }}\n",
       "}});\n",
       "\n",
       "// Listen for the removal of the full notebook cells\n",
       "var notebookContainer = gd.closest('#notebook-container');\n",
       "if (notebookContainer) {{\n",
       "    x.observe(notebookContainer, {childList: true});\n",
       "}}\n",
       "\n",
       "// Listen for the clearing of the current output cell\n",
       "var outputEl = gd.closest('.output');\n",
       "if (outputEl) {{\n",
       "    x.observe(outputEl, {childList: true});\n",
       "}}\n",
       "\n",
       "                        })                };                });            </script>        </div>"
      ]
     },
     "metadata": {},
     "output_type": "display_data"
    }
   ],
   "source": [
    "fig = xp.choropleth_mapbox(data, geojson=map_data, locations='STATE', color='UNDEREMPLOYMENT',\n",
    "                           color_continuous_scale=\"rainbow\",\n",
    "                           mapbox_style=\"carto-positron\",\n",
    "                           zoom=3, center = coord,\n",
    "                           opacity=0.5,\n",
    "                           labels={'underemployed':'State of Population'}\n",
    "                          )\n",
    "fig.update_layout(margin={\"t\":0,\"b\":0,\"l\":0,\"r\":0})\n",
    "fig.show()"
   ]
  },
  {
   "cell_type": "code",
   "execution_count": 22,
   "metadata": {},
   "outputs": [],
   "source": [
    "import seaborn as sns"
   ]
  },
  {
   "cell_type": "code",
   "execution_count": 28,
   "metadata": {},
   "outputs": [],
   "source": [
    "\n",
    "import matplotlib.pyplot as plt"
   ]
  },
  {
   "cell_type": "code",
   "execution_count": 34,
   "metadata": {},
   "outputs": [
    {
     "data": {
      "text/plain": [
       "<Figure size 720x360 with 0 Axes>"
      ]
     },
     "execution_count": 34,
     "metadata": {},
     "output_type": "execute_result"
    },
    {
     "data": {
      "text/plain": [
       "<Figure size 720x360 with 0 Axes>"
      ]
     },
     "metadata": {},
     "output_type": "display_data"
    }
   ],
   "source": [
    "plt.figure(figsize=(10,5))"
   ]
  },
  {
   "cell_type": "code",
   "execution_count": 35,
   "metadata": {},
   "outputs": [
    {
     "data": {
      "text/plain": [
       "<matplotlib.axes._subplots.AxesSubplot at 0x10b0d801388>"
      ]
     },
     "execution_count": 35,
     "metadata": {},
     "output_type": "execute_result"
    },
    {
     "data": {
      "image/png": "[encoded data removed]",
      "text/plain": [
       "<Figure size 432x288 with 1 Axes>"
      ]
     },
     "metadata": {
      "needs_background": "light"
     },
     "output_type": "display_data"
    }
   ],
   "source": [
    "sns.barplot(x = \"UNEMPLOYMENT\", y = \"STATE\", data = data)"
   ]
  },
  {
   "cell_type": "code",
   "execution_count": 36,
   "metadata": {},
   "outputs": [
    {
     "data": {
      "text/plain": [
       "<Figure size 720x360 with 0 Axes>"
      ]
     },
     "execution_count": 36,
     "metadata": {},
     "output_type": "execute_result"
    },
    {
     "data": {
      "text/plain": [
       "<Figure size 720x360 with 0 Axes>"
      ]
     },
     "metadata": {},
     "output_type": "display_data"
    }
   ],
   "source": [
    "plt.figure(figsize=(10,5))"
   ]
  },
  {
   "cell_type": "code",
   "execution_count": 37,
   "metadata": {},
   "outputs": [
    {
     "data": {
      "text/plain": [
       "<matplotlib.axes._subplots.AxesSubplot at 0x10b0d9974c8>"
      ]
     },
     "execution_count": 37,
     "metadata": {},
     "output_type": "execute_result"
    },
    {
     "data": {
      "image/png": "[encoded data removed]",
      "text/plain": [
       "<Figure size 432x288 with 1 Axes>"
      ]
     },
     "metadata": {
      "needs_background": "light"
     },
     "output_type": "display_data"
    }
   ],
   "source": [
    "sns.barplot(x = \"UNDEREMPLOYMENT\", y = \"STATE\", data = data)"
   ]
  },
  {
   "cell_type": "code",
   "execution_count": null,
   "metadata": {},
   "outputs": [],
   "source": []
  },
  {
   "cell_type": "code",
   "execution_count": null,
   "metadata": {},
   "outputs": [],
   "source": []
  },
  {
   "cell_type": "code",
   "execution_count": null,
   "metadata": {},
   "outputs": [],
   "source": []
  },
  {
   "cell_type": "code",
   "execution_count": null,
   "metadata": {},
   "outputs": [],
   "source": []
  }
 ],
 "metadata": {
  "kernelspec": {
   "display_name": "Python 3",
   "language": "python",
   "name": "python3"
  },
  "language_info": {
   "codemirror_mode": {
    "name": "ipython",
    "version": 3
   },
   "file_extension": ".py",
   "mimetype": "text/x-python",
   "name": "python",
   "nbconvert_exporter": "python",
   "pygments_lexer": "ipython3",
   "version": "3.7.6"
  }
 },
 "nbformat": 4,
 "nbformat_minor": 4
}
